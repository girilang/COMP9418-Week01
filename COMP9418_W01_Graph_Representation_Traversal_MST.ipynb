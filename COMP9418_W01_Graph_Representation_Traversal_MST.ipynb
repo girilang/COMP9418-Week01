{
  "cells": [
    {
      "cell_type": "markdown",
      "metadata": {
        "id": "ZRI5b-Zll5k3"
      },
      "source": [
        "[![Open In Colab](https://colab.research.google.com/assets/colab-badge.svg)](https://colab.research.google.com/github/UNSW-COMP9418/Week01/blob/main/COMP9418_W01_Graph_Representation_Traversal_MST.ipynb)\n",
        "\n",
        "# Graph Representation, Traversal and MST\n",
        "\n",
        "**COMP9418 W01 Tutorial**\n",
        "\n",
        "- Instructor: Gustavo Batista\n",
        "- School of Computer Science and Engineering, UNSW Sydney\n",
        "- Notebook designed by Gustavo Batista and Jeremy Gillen\n",
        "- Last Update 6th September 2022"
      ]
    },
    {
      "cell_type": "markdown",
      "metadata": {
        "id": "ZkYSKxWdl5k7"
      },
      "source": [
        "In this week's tutorial, we will review some concepts an algorithms for graph representation, traversal and Minimum Spanning Trees (MST) \n",
        "that will be useful during the course.\n",
        "\n",
        "## Technical prerequisites\n",
        "\n",
        "We will use Jupyter Notebooks in the practical part of the tutorials. There are three main ways to run these notebooks:\n",
        "\n",
        "1. *Google Colab*. The links available in WebCMS will open the course notebooks in [Google Colab](https://colab.research.google.com/). Google Colab has all the packages necessary to run these notebooks, so no installation is required. **This is our prefered approach**.\n",
        "\n",
        "2. *CSE VLAB*. We have installed the necessary packages in the CSE computers. You have to copy the notebook to your CSE account in VLAB to execute them. There are two possibilities to access VLAB. The most recommended is installing a [VNC software](https://taggi.cse.unsw.edu.au/FAQ/Really_quick_guide_to_VLAB/) in your computer. Alternatively, you can access these computers through a web interface using [CSE VLAB Gateway](https://vlabgateway.cse.unsw.edu.au/).\n",
        "\n",
        "3. *Your computer*. If you do not have Jupyter installed in your computer, we recommend installing [Anaconda](https://www.anaconda.com/distribution). Anaconda conveniently installs Python, the Jupyter Notebook, and other commonly used packages for scientific computing and data science. To render a graphical visualization of some graphs in this notebook, you also need to [install Graphviz](http://www.graphviz.org/download). If you have conda installed in your computer, you can try the command ```conda install python-graphviz``` directly. From our experience, Graphviz is a little troublesome to install in some systems. For instance, ```conda install python-graphviz``` often does not work on Linux systems and we did not have any success using ```pip3 install graphviz``` on most systems, so do *not* use ```pip3```.\n",
        "\n",
        "Once we have done all that, we import Graphviz, and heapq modules for later use."
      ]
    },
    {
      "cell_type": "code",
      "execution_count": 19,
      "metadata": {
        "scrolled": true,
        "id": "rzGCGwwll5k8"
      },
      "outputs": [],
      "source": [
        "# Visualise our graph\n",
        "import graphviz\n",
        "# Priority queue for Prim algorithm\n",
        "import heapq as pq"
      ]
    },
    {
      "cell_type": "code",
      "source": [
        "!pwd\n",
        "!ls"
      ],
      "metadata": {
        "colab": {
          "base_uri": "https://localhost:8080/"
        },
        "id": "UWkagyknW1xD",
        "outputId": "ba73f9f9-ad5e-4d23-edd8-8f51872150f4"
      },
      "execution_count": 20,
      "outputs": [
        {
          "output_type": "stream",
          "name": "stdout",
          "text": [
            "/content\n",
            "sample_data\n"
          ]
        }
      ]
    },
    {
      "cell_type": "markdown",
      "metadata": {
        "id": "UUrtKXhul5k-"
      },
      "source": [
        "## Representing graphs\n",
        "\n",
        "We will not use any particular library for representing graphs in Python. Instead, we will represent a graph structure as a dictionary whose keys are the nodes of the graph. For each key, the corresponding value is a list. The list contains the nodes that are directly connected to this node.\n",
        "\n",
        "For instance, the following graph:\n",
        "\n",
        "![Graph example](img/example_graph.png \"Graph example\")\n",
        "\n",
        "can be represented as\n",
        "\n",
        "```\n",
        "graph = {\n",
        "    0: [2],\n",
        "    1: [0],\n",
        "    2: [1],\n",
        "    3: [1, 2],\n",
        "}\n",
        "```\n",
        "\n",
        "This representation is an adjacency list. If you'd like to read more about this style of graphs, there is more\n",
        "[information on the python website](https://www.python.org/doc/essays/graphs/)."
      ]
    },
    {
      "cell_type": "markdown",
      "metadata": {
        "id": "FdkDxxLjl5lA"
      },
      "source": [
        "### Exercise\n",
        "\n",
        "Now, it is your turn. Represent the following directed graph using the suggested adjacency list representation.\n",
        "\n",
        "![Graph exercise](img/exercise_graph.png \"Graph exercise\")"
      ]
    },
    {
      "cell_type": "code",
      "execution_count": 21,
      "metadata": {
        "id": "k4QAVvFEl5lA"
      },
      "outputs": [],
      "source": [
        "graph = {\n",
        "    0: [3],\n",
        "    1: [0, 4],\n",
        "    2: [1, 4],\n",
        "    3: [1],\n",
        "    4: [3],\n",
        "    5: [2,4],\n",
        "}"
      ]
    },
    {
      "cell_type": "markdown",
      "metadata": {
        "id": "FRPH--mDl5lB"
      },
      "source": [
        "## Graphviz\n",
        "\n",
        "We can use the Graphviz library to inspect our graphs visually. \n",
        "\n",
        "The following code will convert your digraph to a Graphviz object and render it."
      ]
    },
    {
      "cell_type": "code",
      "execution_count": 22,
      "metadata": {
        "id": "dH8OYYb4l5lB",
        "colab": {
          "base_uri": "https://localhost:8080/",
          "height": 162
        },
        "outputId": "16b3dcd9-7b37-40cd-fce8-82d4ec0f2313"
      },
      "outputs": [
        {
          "output_type": "execute_result",
          "data": {
            "text/plain": [
              "<graphviz.dot.Digraph at 0x7f14cc276910>"
            ],
            "image/svg+xml": "<?xml version=\"1.0\" encoding=\"UTF-8\" standalone=\"no\"?>\n<!DOCTYPE svg PUBLIC \"-//W3C//DTD SVG 1.1//EN\"\n \"http://www.w3.org/Graphics/SVG/1.1/DTD/svg11.dtd\">\n<!-- Generated by graphviz version 2.40.1 (20161225.0304)\n -->\n<!-- Title: %3 Pages: 1 -->\n<svg width=\"186pt\" height=\"106pt\"\n viewBox=\"0.00 0.00 186.01 106.01\" xmlns=\"http://www.w3.org/2000/svg\" xmlns:xlink=\"http://www.w3.org/1999/xlink\">\n<g id=\"graph0\" class=\"graph\" transform=\"scale(1 1) rotate(0) translate(4 102.0062)\">\n<title>%3</title>\n<polygon fill=\"#ffffff\" stroke=\"transparent\" points=\"-4,4 -4,-102.0062 182.0124,-102.0062 182.0124,4 -4,4\"/>\n<!-- 0 -->\n<g id=\"node1\" class=\"node\">\n<title>0</title>\n<ellipse fill=\"none\" stroke=\"#000000\" cx=\"27\" cy=\"-80.0062\" rx=\"27\" ry=\"18\"/>\n<text text-anchor=\"middle\" x=\"27\" y=\"-76.3062\" font-family=\"Times,serif\" font-size=\"14.00\" fill=\"#000000\">0</text>\n</g>\n<!-- 3 -->\n<g id=\"node4\" class=\"node\">\n<title>3</title>\n<ellipse fill=\"none\" stroke=\"#000000\" cx=\"27\" cy=\"-18\" rx=\"27\" ry=\"18\"/>\n<text text-anchor=\"middle\" x=\"27\" y=\"-14.3\" font-family=\"Times,serif\" font-size=\"14.00\" fill=\"#000000\">3</text>\n</g>\n<!-- 0&#45;&gt;3 -->\n<g id=\"edge1\" class=\"edge\">\n<title>0&#45;&gt;3</title>\n<path fill=\"none\" stroke=\"#000000\" d=\"M27,-61.7377C27,-56.9865 27,-51.7523 27,-46.6068\"/>\n<polygon fill=\"#000000\" stroke=\"#000000\" points=\"30.5001,-46.3522 27,-36.3522 23.5001,-46.3523 30.5001,-46.3522\"/>\n</g>\n<!-- 1 -->\n<g id=\"node2\" class=\"node\">\n<title>1</title>\n<ellipse fill=\"none\" stroke=\"#000000\" cx=\"89.0062\" cy=\"-80.0062\" rx=\"27\" ry=\"18\"/>\n<text text-anchor=\"middle\" x=\"89.0062\" y=\"-76.3062\" font-family=\"Times,serif\" font-size=\"14.00\" fill=\"#000000\">1</text>\n</g>\n<!-- 1&#45;&gt;0 -->\n<g id=\"edge2\" class=\"edge\">\n<title>1&#45;&gt;0</title>\n<path fill=\"none\" stroke=\"#000000\" d=\"M61.9898,-80.0062C61.8266,-80.0062 61.6632,-80.0062 61.4998,-80.0062\"/>\n<polygon fill=\"#000000\" stroke=\"#000000\" points=\"64.1179,-76.5063 54.1179,-80.0062 64.1178,-83.5063 64.1179,-76.5063\"/>\n</g>\n<!-- 4 -->\n<g id=\"node5\" class=\"node\">\n<title>4</title>\n<ellipse fill=\"none\" stroke=\"#000000\" cx=\"89.0062\" cy=\"-18\" rx=\"27\" ry=\"18\"/>\n<text text-anchor=\"middle\" x=\"89.0062\" y=\"-14.3\" font-family=\"Times,serif\" font-size=\"14.00\" fill=\"#000000\">4</text>\n</g>\n<!-- 1&#45;&gt;4 -->\n<g id=\"edge3\" class=\"edge\">\n<title>1&#45;&gt;4</title>\n<path fill=\"none\" stroke=\"#000000\" d=\"M89.0062,-61.7377C89.0062,-56.9865 89.0062,-51.7523 89.0062,-46.6068\"/>\n<polygon fill=\"#000000\" stroke=\"#000000\" points=\"92.5063,-46.3522 89.0062,-36.3522 85.5063,-46.3523 92.5063,-46.3522\"/>\n</g>\n<!-- 2 -->\n<g id=\"node3\" class=\"node\">\n<title>2</title>\n<ellipse fill=\"none\" stroke=\"#000000\" cx=\"151.0124\" cy=\"-80.0062\" rx=\"27\" ry=\"18\"/>\n<text text-anchor=\"middle\" x=\"151.0124\" y=\"-76.3062\" font-family=\"Times,serif\" font-size=\"14.00\" fill=\"#000000\">2</text>\n</g>\n<!-- 2&#45;&gt;1 -->\n<g id=\"edge4\" class=\"edge\">\n<title>2&#45;&gt;1</title>\n<path fill=\"none\" stroke=\"#000000\" d=\"M123.996,-80.0062C123.8328,-80.0062 123.6694,-80.0062 123.506,-80.0062\"/>\n<polygon fill=\"#000000\" stroke=\"#000000\" points=\"126.1241,-76.5063 116.1241,-80.0062 126.124,-83.5063 126.1241,-76.5063\"/>\n</g>\n<!-- 2&#45;&gt;4 -->\n<g id=\"edge5\" class=\"edge\">\n<title>2&#45;&gt;4</title>\n<path fill=\"none\" stroke=\"#000000\" d=\"M136.0024,-64.9962C128.6482,-57.642 119.6406,-48.6344 111.486,-40.4798\"/>\n<polygon fill=\"#000000\" stroke=\"#000000\" points=\"113.8547,-37.8987 104.3087,-33.3025 108.9049,-42.8485 113.8547,-37.8987\"/>\n</g>\n<!-- 3&#45;&gt;1 -->\n<g id=\"edge6\" class=\"edge\">\n<title>3&#45;&gt;1</title>\n<path fill=\"none\" stroke=\"#000000\" d=\"M42.01,-33.01C49.3642,-40.3642 58.3718,-49.3718 66.5264,-57.5264\"/>\n<polygon fill=\"#000000\" stroke=\"#000000\" points=\"64.1577,-60.1075 73.7037,-64.7037 69.1075,-55.1577 64.1577,-60.1075\"/>\n</g>\n<!-- 4&#45;&gt;3 -->\n<g id=\"edge7\" class=\"edge\">\n<title>4&#45;&gt;3</title>\n<path fill=\"none\" stroke=\"#000000\" d=\"M61.9898,-18C61.8266,-18 61.6632,-18 61.4998,-18\"/>\n<polygon fill=\"#000000\" stroke=\"#000000\" points=\"64.1179,-14.5001 54.1179,-18 64.1178,-21.5001 64.1179,-14.5001\"/>\n</g>\n<!-- 5 -->\n<g id=\"node6\" class=\"node\">\n<title>5</title>\n<ellipse fill=\"none\" stroke=\"#000000\" cx=\"151.0124\" cy=\"-18\" rx=\"27\" ry=\"18\"/>\n<text text-anchor=\"middle\" x=\"151.0124\" y=\"-14.3\" font-family=\"Times,serif\" font-size=\"14.00\" fill=\"#000000\">5</text>\n</g>\n<!-- 5&#45;&gt;2 -->\n<g id=\"edge8\" class=\"edge\">\n<title>5&#45;&gt;2</title>\n<path fill=\"none\" stroke=\"#000000\" d=\"M151.0124,-36.2685C151.0124,-41.0197 151.0124,-46.2539 151.0124,-51.3994\"/>\n<polygon fill=\"#000000\" stroke=\"#000000\" points=\"147.5125,-51.6539 151.0124,-61.654 154.5125,-51.654 147.5125,-51.6539\"/>\n</g>\n<!-- 5&#45;&gt;4 -->\n<g id=\"edge9\" class=\"edge\">\n<title>5&#45;&gt;4</title>\n<path fill=\"none\" stroke=\"#000000\" d=\"M123.996,-18C123.8328,-18 123.6694,-18 123.506,-18\"/>\n<polygon fill=\"#000000\" stroke=\"#000000\" points=\"126.1241,-14.5001 116.1241,-18 126.124,-21.5001 126.1241,-14.5001\"/>\n</g>\n</g>\n</svg>\n"
          },
          "metadata": {},
          "execution_count": 22
        }
      ],
      "source": [
        "dot = graphviz.Digraph(engine=\"neato\", comment='Direct graph example')\n",
        "dot.attr(overlap=\"false\", splines=\"true\")\n",
        "\n",
        "# List of positions for each node\n",
        "# We use node positions to replicate the previous figure\n",
        "# This can be removed if the nodes do not need to be presented in a specific order\n",
        "pos = {\n",
        "    0: '0,1!',\n",
        "    1: '1,1!',\n",
        "    2: '2,1!',\n",
        "    3: '0,0!',\n",
        "    4: '1,0!',\n",
        "    5: '2,0!',\n",
        "}\n",
        "\n",
        "for v in graph.keys():\n",
        "    dot.node(str(v), pos=pos[v])\n",
        "    # dot.node(str(v))              # Use this line instead of the previous one to position the nodes in random order\n",
        "\n",
        "for v in graph.keys():\n",
        "    for w in graph[v]:\n",
        "        dot.edge(str(v), str(w))\n",
        "\n",
        "dot"
      ]
    },
    {
      "cell_type": "markdown",
      "metadata": {
        "id": "IULWyiu8l5lC"
      },
      "source": [
        "## Graph class\n",
        "\n",
        "To keep our code clean and put all of the graph related functions in one place,\n",
        "we can wrap this graph data structure in a class."
      ]
    },
    {
      "cell_type": "code",
      "execution_count": 23,
      "metadata": {
        "id": "ahNqDdoSl5lC"
      },
      "outputs": [],
      "source": [
        "class Graph:\n",
        "    def __init__(self, adj_list=None):\n",
        "        self.adj_list = dict()\n",
        "        if adj_list is not None:\n",
        "            self.adj_list = adj_list.copy() # dict with graph's adjacency list\n",
        "        self.colour = dict()"
      ]
    },
    {
      "cell_type": "code",
      "execution_count": 24,
      "metadata": {
        "id": "U_vEH6Qvl5lC"
      },
      "outputs": [],
      "source": [
        "class Graph(Graph):\n",
        "    def show(self, directed=True, positions=None):\n",
        "        \"\"\"\n",
        "        Prints a graphical visualisation of the graph usign GraphViz\n",
        "        arguments:\n",
        "            `directed`, True if the graph is directed, False if the graph is undirected\n",
        "            `pos: dictionary`, with nodes as keys and positions as values\n",
        "        return:\n",
        "            GraphViz object\n",
        "        \"\"\"\n",
        "        if directed:\n",
        "            dot = graphviz.Digraph(engine=\"neato\", comment='Directed graph')\n",
        "        else:\n",
        "            dot = graphviz.Graph(engine=\"neato\", comment='Undirected graph', strict=True)        \n",
        "        dot.attr(overlap=\"false\", splines=\"true\")\n",
        "        for v in self.adj_list:\n",
        "            if positions is not None:\n",
        "                dot.node(str(v), pos=positions[v])\n",
        "            else:\n",
        "                dot.node(str(v))\n",
        "        for v in self.adj_list:\n",
        "            for w in self.adj_list[v]:\n",
        "                dot.edge(str(v), str(w))\n",
        "\n",
        "        return dot"
      ]
    },
    {
      "cell_type": "code",
      "execution_count": 25,
      "metadata": {
        "id": "wDWDKm89l5lD",
        "colab": {
          "base_uri": "https://localhost:8080/",
          "height": 162
        },
        "outputId": "8d98baa1-92a6-40d3-f56d-82c25fb3a450"
      },
      "outputs": [
        {
          "output_type": "execute_result",
          "data": {
            "text/plain": [
              "<graphviz.dot.Digraph at 0x7f14cbb94a50>"
            ],
            "image/svg+xml": "<?xml version=\"1.0\" encoding=\"UTF-8\" standalone=\"no\"?>\n<!DOCTYPE svg PUBLIC \"-//W3C//DTD SVG 1.1//EN\"\n \"http://www.w3.org/Graphics/SVG/1.1/DTD/svg11.dtd\">\n<!-- Generated by graphviz version 2.40.1 (20161225.0304)\n -->\n<!-- Title: %3 Pages: 1 -->\n<svg width=\"186pt\" height=\"106pt\"\n viewBox=\"0.00 0.00 186.01 106.01\" xmlns=\"http://www.w3.org/2000/svg\" xmlns:xlink=\"http://www.w3.org/1999/xlink\">\n<g id=\"graph0\" class=\"graph\" transform=\"scale(1 1) rotate(0) translate(4 102.0062)\">\n<title>%3</title>\n<polygon fill=\"#ffffff\" stroke=\"transparent\" points=\"-4,4 -4,-102.0062 182.0124,-102.0062 182.0124,4 -4,4\"/>\n<!-- 0 -->\n<g id=\"node1\" class=\"node\">\n<title>0</title>\n<ellipse fill=\"none\" stroke=\"#000000\" cx=\"27\" cy=\"-80.0062\" rx=\"27\" ry=\"18\"/>\n<text text-anchor=\"middle\" x=\"27\" y=\"-76.3062\" font-family=\"Times,serif\" font-size=\"14.00\" fill=\"#000000\">0</text>\n</g>\n<!-- 3 -->\n<g id=\"node4\" class=\"node\">\n<title>3</title>\n<ellipse fill=\"none\" stroke=\"#000000\" cx=\"27\" cy=\"-18\" rx=\"27\" ry=\"18\"/>\n<text text-anchor=\"middle\" x=\"27\" y=\"-14.3\" font-family=\"Times,serif\" font-size=\"14.00\" fill=\"#000000\">3</text>\n</g>\n<!-- 0&#45;&gt;3 -->\n<g id=\"edge1\" class=\"edge\">\n<title>0&#45;&gt;3</title>\n<path fill=\"none\" stroke=\"#000000\" d=\"M27,-61.7377C27,-56.9865 27,-51.7523 27,-46.6068\"/>\n<polygon fill=\"#000000\" stroke=\"#000000\" points=\"30.5001,-46.3522 27,-36.3522 23.5001,-46.3523 30.5001,-46.3522\"/>\n</g>\n<!-- 1 -->\n<g id=\"node2\" class=\"node\">\n<title>1</title>\n<ellipse fill=\"none\" stroke=\"#000000\" cx=\"89.0062\" cy=\"-80.0062\" rx=\"27\" ry=\"18\"/>\n<text text-anchor=\"middle\" x=\"89.0062\" y=\"-76.3062\" font-family=\"Times,serif\" font-size=\"14.00\" fill=\"#000000\">1</text>\n</g>\n<!-- 1&#45;&gt;0 -->\n<g id=\"edge2\" class=\"edge\">\n<title>1&#45;&gt;0</title>\n<path fill=\"none\" stroke=\"#000000\" d=\"M61.9898,-80.0062C61.8266,-80.0062 61.6632,-80.0062 61.4998,-80.0062\"/>\n<polygon fill=\"#000000\" stroke=\"#000000\" points=\"64.1179,-76.5063 54.1179,-80.0062 64.1178,-83.5063 64.1179,-76.5063\"/>\n</g>\n<!-- 4 -->\n<g id=\"node5\" class=\"node\">\n<title>4</title>\n<ellipse fill=\"none\" stroke=\"#000000\" cx=\"89.0062\" cy=\"-18\" rx=\"27\" ry=\"18\"/>\n<text text-anchor=\"middle\" x=\"89.0062\" y=\"-14.3\" font-family=\"Times,serif\" font-size=\"14.00\" fill=\"#000000\">4</text>\n</g>\n<!-- 1&#45;&gt;4 -->\n<g id=\"edge3\" class=\"edge\">\n<title>1&#45;&gt;4</title>\n<path fill=\"none\" stroke=\"#000000\" d=\"M89.0062,-61.7377C89.0062,-56.9865 89.0062,-51.7523 89.0062,-46.6068\"/>\n<polygon fill=\"#000000\" stroke=\"#000000\" points=\"92.5063,-46.3522 89.0062,-36.3522 85.5063,-46.3523 92.5063,-46.3522\"/>\n</g>\n<!-- 2 -->\n<g id=\"node3\" class=\"node\">\n<title>2</title>\n<ellipse fill=\"none\" stroke=\"#000000\" cx=\"151.0124\" cy=\"-80.0062\" rx=\"27\" ry=\"18\"/>\n<text text-anchor=\"middle\" x=\"151.0124\" y=\"-76.3062\" font-family=\"Times,serif\" font-size=\"14.00\" fill=\"#000000\">2</text>\n</g>\n<!-- 2&#45;&gt;1 -->\n<g id=\"edge4\" class=\"edge\">\n<title>2&#45;&gt;1</title>\n<path fill=\"none\" stroke=\"#000000\" d=\"M123.996,-80.0062C123.8328,-80.0062 123.6694,-80.0062 123.506,-80.0062\"/>\n<polygon fill=\"#000000\" stroke=\"#000000\" points=\"126.1241,-76.5063 116.1241,-80.0062 126.124,-83.5063 126.1241,-76.5063\"/>\n</g>\n<!-- 2&#45;&gt;4 -->\n<g id=\"edge5\" class=\"edge\">\n<title>2&#45;&gt;4</title>\n<path fill=\"none\" stroke=\"#000000\" d=\"M136.0024,-64.9962C128.6482,-57.642 119.6406,-48.6344 111.486,-40.4798\"/>\n<polygon fill=\"#000000\" stroke=\"#000000\" points=\"113.8547,-37.8987 104.3087,-33.3025 108.9049,-42.8485 113.8547,-37.8987\"/>\n</g>\n<!-- 3&#45;&gt;1 -->\n<g id=\"edge6\" class=\"edge\">\n<title>3&#45;&gt;1</title>\n<path fill=\"none\" stroke=\"#000000\" d=\"M42.01,-33.01C49.3642,-40.3642 58.3718,-49.3718 66.5264,-57.5264\"/>\n<polygon fill=\"#000000\" stroke=\"#000000\" points=\"64.1577,-60.1075 73.7037,-64.7037 69.1075,-55.1577 64.1577,-60.1075\"/>\n</g>\n<!-- 4&#45;&gt;3 -->\n<g id=\"edge7\" class=\"edge\">\n<title>4&#45;&gt;3</title>\n<path fill=\"none\" stroke=\"#000000\" d=\"M61.9898,-18C61.8266,-18 61.6632,-18 61.4998,-18\"/>\n<polygon fill=\"#000000\" stroke=\"#000000\" points=\"64.1179,-14.5001 54.1179,-18 64.1178,-21.5001 64.1179,-14.5001\"/>\n</g>\n<!-- 5 -->\n<g id=\"node6\" class=\"node\">\n<title>5</title>\n<ellipse fill=\"none\" stroke=\"#000000\" cx=\"151.0124\" cy=\"-18\" rx=\"27\" ry=\"18\"/>\n<text text-anchor=\"middle\" x=\"151.0124\" y=\"-14.3\" font-family=\"Times,serif\" font-size=\"14.00\" fill=\"#000000\">5</text>\n</g>\n<!-- 5&#45;&gt;2 -->\n<g id=\"edge8\" class=\"edge\">\n<title>5&#45;&gt;2</title>\n<path fill=\"none\" stroke=\"#000000\" d=\"M151.0124,-36.2685C151.0124,-41.0197 151.0124,-46.2539 151.0124,-51.3994\"/>\n<polygon fill=\"#000000\" stroke=\"#000000\" points=\"147.5125,-51.6539 151.0124,-61.654 154.5125,-51.654 147.5125,-51.6539\"/>\n</g>\n<!-- 5&#45;&gt;4 -->\n<g id=\"edge9\" class=\"edge\">\n<title>5&#45;&gt;4</title>\n<path fill=\"none\" stroke=\"#000000\" d=\"M123.996,-18C123.8328,-18 123.6694,-18 123.506,-18\"/>\n<polygon fill=\"#000000\" stroke=\"#000000\" points=\"126.1241,-14.5001 116.1241,-18 126.124,-21.5001 126.1241,-14.5001\"/>\n</g>\n</g>\n</svg>\n"
          },
          "metadata": {},
          "execution_count": 25
        }
      ],
      "source": [
        "G = Graph(graph)\n",
        "G.show(positions=pos)"
      ]
    },
    {
      "cell_type": "markdown",
      "metadata": {
        "id": "KpnojUMdl5lD"
      },
      "source": [
        "## Depth-first search\n",
        "\n",
        "Let's implement the DFS search. We will provide the code for you. Later on, you will extend it to implement other algorithms. We will use a colouring scheme for nodes. \n",
        "\n",
        "Initially, all nodes are \"white\" indicating they are not processed yet. When we first visit a node, we recolour it as \"grey\". Finally, the node becomes \"black\" when we have processed all its outgoing edges, and we are ready to backtrack to the previous node."
      ]
    },
    {
      "cell_type": "code",
      "execution_count": 26,
      "metadata": {
        "id": "wEpiKcQyl5lE"
      },
      "outputs": [],
      "source": [
        "class Graph(Graph):\n",
        "    def _dfs_r(self, v): # This is the main DFS recursive function\n",
        "        \"\"\"\n",
        "        argument \n",
        "        `v`, next vertex to be visited\n",
        "        `colour`, dictionary with the colour of each node\n",
        "        \"\"\"\n",
        "        print('Visiting: ', v)\n",
        "        self.colour[v] = 'grey' # Visited vertices are coloured 'grey'\n",
        "        for w in self.adj_list[v]: # Let's visit all outgoing edges from v\n",
        "            if self.colour[w] == 'white': # To avoid loops, we check if the next vertex hasn't been visited yet\n",
        "                self._dfs_r(w)\n",
        "        self.colour[v] = 'black' # When we finish the for loop, we know we have visited all nodes from v. It is time to turn it 'black'\n",
        "\n",
        "    def dfs(self, start): # This is an auxiliary DFS function to create and initialize the colour dictionary\n",
        "        \"\"\"\n",
        "        argument \n",
        "        `start`, starting vertex\n",
        "        \"\"\"    \n",
        "        self.colour = {node: 'white' for node in self.adj_list.keys()} # Create a dictionary with keys as node numbers and values equal to 'white'\n",
        "        self._dfs_r(start)\n",
        "        return self.colour # We can return colour dictionary. It is useful for some operations, such as detecting connected components"
      ]
    },
    {
      "cell_type": "markdown",
      "metadata": {
        "id": "0cOXefV_l5lE"
      },
      "source": [
        "We can now test your graph representation. If you represented the graph correctly, a DFS starting at node 0 should visit all vertices but nodes 2 and 5. Notice, there is no path between node 0 and nodes 2 and 5."
      ]
    },
    {
      "cell_type": "code",
      "execution_count": 27,
      "metadata": {
        "id": "rK3GvR1-l5lF",
        "colab": {
          "base_uri": "https://localhost:8080/"
        },
        "outputId": "f58580fb-5544-45ea-9eb1-ff02870542b6"
      },
      "outputs": [
        {
          "output_type": "stream",
          "name": "stdout",
          "text": [
            "Visiting:  0\n",
            "Visiting:  3\n",
            "Visiting:  1\n",
            "Visiting:  4\n"
          ]
        },
        {
          "output_type": "execute_result",
          "data": {
            "text/plain": [
              "{0: 'black', 1: 'black', 2: 'white', 3: 'black', 4: 'black', 5: 'white'}"
            ]
          },
          "metadata": {},
          "execution_count": 27
        }
      ],
      "source": [
        "G = Graph(graph)\n",
        "G.dfs(0)"
      ]
    },
    {
      "cell_type": "markdown",
      "metadata": {
        "id": "XS8khwiUl5lF"
      },
      "source": [
        "A modification of the algorithm can make sure it searches all nodes, even if they are disconnected from other nodes. The idea is to re-start the recursive DFS search for each white node until all nodes become black."
      ]
    },
    {
      "cell_type": "code",
      "execution_count": 28,
      "metadata": {
        "id": "FR70gZMCl5lF"
      },
      "outputs": [],
      "source": [
        "class Graph(Graph):\n",
        "    def dfs_all(self): # This is an auxiliary DFS function to create and initialize the colour dictionary\n",
        "        \"\"\"\n",
        "        argument \n",
        "        `start`, starting vertex\n",
        "        \"\"\"    \n",
        "        self.colour = {node: 'white' for node in self.adj_list.keys()} # Create a dictionary with keys as node numbers and values equal to 'white'\n",
        "        for start in self.colour.keys():\n",
        "            if self.colour[start] == 'white':\n",
        "                self._dfs_r(start)"
      ]
    },
    {
      "cell_type": "code",
      "execution_count": 29,
      "metadata": {
        "id": "rIhAX-MZl5lG",
        "colab": {
          "base_uri": "https://localhost:8080/"
        },
        "outputId": "2af18273-91ce-484b-92e1-d8c0951e610f"
      },
      "outputs": [
        {
          "output_type": "stream",
          "name": "stdout",
          "text": [
            "Visiting:  0\n",
            "Visiting:  3\n",
            "Visiting:  1\n",
            "Visiting:  4\n",
            "Visiting:  2\n",
            "Visiting:  5\n"
          ]
        }
      ],
      "source": [
        "G = Graph(graph)\n",
        "G.dfs_all()"
      ]
    },
    {
      "cell_type": "markdown",
      "metadata": {
        "id": "dugAQ8r8l5lG"
      },
      "source": [
        "## Finding Cycles in Directed Graphs\n",
        "\n",
        "Our second task is to determine if a graph has cycles. During a DFS, a cycle can be found by testing if we have reached a grey node. Usually, we stop when we first observe a cycle. Therefore, we need to modify the DFS procedure to return a boolean.\n",
        "\n",
        "### Exercise\n",
        "\n",
        "Now, it is your turn, modify the code bellow to detect cycles in directed graphs."
      ]
    },
    {
      "cell_type": "code",
      "execution_count": 30,
      "metadata": {
        "id": "-AkbAYIFl5lG",
        "colab": {
          "base_uri": "https://localhost:8080/"
        },
        "outputId": "bbb7982c-a7f0-48bd-cb16-688c6802d2a8"
      },
      "outputs": [
        {
          "output_type": "stream",
          "name": "stdout",
          "text": [
            "Test graph 1\n",
            "Visiting:  0\n",
            "Visiting:  1\n",
            "Visiting:  2\n",
            "Visiting:  3\n",
            "Visiting:  4\n",
            "Visiting:  5\n",
            "5 0 Cycle detected\n",
            "True\n",
            "Test graph 2\n",
            "Visiting:  0\n",
            "Visiting:  1\n",
            "Visiting:  2\n",
            "Visiting:  4\n",
            "Visiting:  5\n",
            "Visiting:  3\n",
            "False\n"
          ]
        }
      ],
      "source": [
        "class Graph(Graph):\n",
        "    # This is the main recursive function\n",
        "    def _find_cycle_r(self, v):\n",
        "        \"\"\"\n",
        "        argument \n",
        "        `v`, next vertex to be visited\n",
        "        \"\"\"      \n",
        "        print('Visiting: ', v)\n",
        "        self.colour[v] = 'grey' # Visited vertices are coloured 'grey'\n",
        "        for w in self.adj_list[v]: # Let's visit all outgoing edges from v\n",
        "            if self.colour[w] == 'white': # To avoid loops, we check if the next vertex hasn't been visited yet\n",
        "                \n",
        "                if self._find_cycle_r(w) == True:\n",
        "                  return True\n",
        "            if self.colour[w] == 'grey': # Cycle if the node is grey which means that it hasn't been backed out.\n",
        "                print (v, w, 'Cycle detected')\n",
        "                return True\n",
        "        self.colour[v] = 'black' # When we finish the for loop, we know we have visited all nodes from v. It is time to turn it 'black'\n",
        "        \n",
        "        return False\n",
        "\n",
        "    # This is an auxiliary function to create and initialize the colour dictionary    \n",
        "    def find_cycle(self):\n",
        "        \"\"\"\n",
        "        argument \n",
        "        `v`, starting vertex\n",
        "        \"\"\"        \n",
        "        self.colour = dict([(node, 'white') for node in self.adj_list.keys()])\n",
        "        for start in self.colour.keys():\n",
        "            if self.colour[start] == 'white':\n",
        "                if self._find_cycle_r(start):\n",
        "                    return True\n",
        "\n",
        "        return False\n",
        "\n",
        "#######################################\n",
        "# Test code\n",
        "#######################################\n",
        "test_graph1 = {\n",
        "    0: [1],\n",
        "    1: [2],\n",
        "    2: [3],\n",
        "    3: [4],\n",
        "    4: [5],\n",
        "    5: [0],\n",
        "}\n",
        "\n",
        "test_graph2 = {\n",
        "    0: [1,4],\n",
        "    1: [2],\n",
        "    2: [4],\n",
        "    3: [],\n",
        "    4: [5],\n",
        "    5: [3],\n",
        "}\n",
        "\n",
        "print ('Test graph 1')\n",
        "G1 = Graph(test_graph1)\n",
        "print (G1.find_cycle())\n",
        "print ('Test graph 2')\n",
        "G2 = Graph(test_graph2)\n",
        "print (G2.find_cycle())"
      ]
    },
    {
      "cell_type": "markdown",
      "metadata": {
        "id": "2whU5lkpl5lH"
      },
      "source": [
        "If your implementation is correct and you included a message when the cycle is detected, then you should see the following output:\n",
        "\n",
        "```\n",
        "Test graph 1\n",
        "Visiting:  0\n",
        "Visiting:  1\n",
        "Visiting:  2\n",
        "Visiting:  3\n",
        "Visiting:  4\n",
        "Visiting:  5\n",
        "5 0 Cycle detected\n",
        "Test graph 2\n",
        "Visiting:  0\n",
        "Visiting:  1\n",
        "Visiting:  2\n",
        "Visiting:  4\n",
        "Visiting:  5\n",
        "Visiting:  3\n",
        "Visiting:  0\n",
        "False\n",
        "```"
      ]
    },
    {
      "cell_type": "markdown",
      "metadata": {
        "id": "sKZ8a4Tcl5lH"
      },
      "source": [
        "We can now test your implementation in the exercise graph."
      ]
    },
    {
      "cell_type": "code",
      "execution_count": 31,
      "metadata": {
        "id": "xoszXwJYl5lI",
        "colab": {
          "base_uri": "https://localhost:8080/"
        },
        "outputId": "b93a0713-507a-4421-be00-05223c60ae7e"
      },
      "outputs": [
        {
          "output_type": "stream",
          "name": "stdout",
          "text": [
            "Visiting:  0\n",
            "Visiting:  3\n",
            "Visiting:  1\n",
            "1 0 Cycle detected\n"
          ]
        },
        {
          "output_type": "execute_result",
          "data": {
            "text/plain": [
              "True"
            ]
          },
          "metadata": {},
          "execution_count": 31
        }
      ],
      "source": [
        "G = Graph(graph)\n",
        "G.find_cycle()"
      ]
    },
    {
      "cell_type": "markdown",
      "metadata": {
        "id": "fNlMPoyHl5lI"
      },
      "source": [
        "It should show one of the following cycles: 0-3-1 or 1-4-2, depending on the order you entered the node numbers in the adjacency list."
      ]
    },
    {
      "cell_type": "markdown",
      "metadata": {
        "id": "Ju3Hq0Whl5lI"
      },
      "source": [
        "# Topological Sort\n",
        "\n",
        "The topological sort can be obtained by merely inserting the nodes into a stack when they become black. We use the stack to reverse the order of the nodes when printing the result. By doing so, the edges are directed from left to right.\n",
        "\n",
        "## Exercise\n",
        "\n",
        "Let's implement the topological sort. It is an almost trivial modification of your DFS procedure. We have started the code for you creating a stack to store the sorted nodes."
      ]
    },
    {
      "cell_type": "code",
      "execution_count": 32,
      "metadata": {
        "id": "ZYbtDSJ4l5lJ",
        "colab": {
          "base_uri": "https://localhost:8080/"
        },
        "outputId": "84762b84-0ae3-4267-bb6e-23d17041d28b"
      },
      "outputs": [
        {
          "output_type": "stream",
          "name": "stdout",
          "text": [
            "Topological sort:\n",
            "Visiting:  0\n",
            "Visiting:  1\n",
            "Visiting:  2\n",
            "Visiting:  4\n",
            "Visiting:  5\n",
            "Visiting:  3\n",
            "[0, 1, 2, 4, 5, 3]\n"
          ]
        }
      ],
      "source": [
        "class Graph(Graph):\n",
        "    # This is the recursive function that visits the nodes according to depth-first search and appends the black nodes \n",
        "    # to the end of a `stack` list.\n",
        "    def _topological_sort_r(self, v):\n",
        "        \"\"\"\n",
        "        argument \n",
        "        `v`, current vertex\n",
        "        \"\"\"\n",
        "        \n",
        "        print('Visiting: ', v)\n",
        "        self.colour[v] = 'grey' # Visited vertices are coloured 'grey'\n",
        "        for w in self.adj_list[v]: # Let's visit all outgoing edges from v\n",
        "            if self.colour[w] == 'white': # To avoid loops, we check if the next vertex hasn't been visited yet\n",
        "                self._topological_sort_r(w)\n",
        "        self.colour[v] = 'black' # When we finish the for loop, we know we have visited all nodes from v. It is time to turn it 'black'\n",
        "        self.stack.append(v)\n",
        "        ...\n",
        "        \n",
        "        \n",
        "    # This is main function that prepares for the recursive function. It first colours all nodes as 'white' and call the\n",
        "    # recursive function for an arbitrary node. When the recursive function returns, if we have any remaining 'white'\n",
        "    # nodes, we call the recursive function again for these nodes.\n",
        "    def topological_sort(self):\n",
        "        \"\"\"\n",
        "        argument \n",
        "        `G`, an adjacency list representation of a graph\n",
        "        return a list with the topological order of the graph G\n",
        "        \"\"\"\n",
        "        # We start with an empty stack\n",
        "        self.stack = []\n",
        "        # Colour is dictionary that associates node keys to colours. The colours are 'white', 'grey' and 'black'.\n",
        "        self.colour = {node: 'white' for node in self.adj_list.keys()}\n",
        "        # We call the recursive function to visit a first node. When the function returns, if there are any white \n",
        "        # nodes remaining, we call the function again for these white nodes\n",
        "        for start in self.adj_list.keys():\n",
        "            # If the node is 'white' we call the recursive function to vists the nodes connected to it in DFS order\n",
        "            if self.colour[start] == 'white':\n",
        "                # This is a call to topologicalSort_r\n",
        "                self._topological_sort_r(start)\n",
        "        # We need to reverse the list, we use a little trick with list slice\n",
        "        return self.stack[::-1]\n",
        "\n",
        "\n",
        "#######################################\n",
        "# Test code\n",
        "#######################################\n",
        "        \n",
        "test_graph2 = {\n",
        "    0: [1,4],\n",
        "    1: [2],\n",
        "    2: [4],\n",
        "    3: [],\n",
        "    4: [5],\n",
        "    5: [3],    \n",
        "}\n",
        "\n",
        "G2 = Graph(test_graph2)\n",
        "print(\"Topological sort:\")\n",
        "print(G2.topological_sort())\n"
      ]
    },
    {
      "cell_type": "markdown",
      "metadata": {
        "id": "n2ejNUN0l5lJ"
      },
      "source": [
        "If your implementation is correct, then you should see the following output:\n",
        "\n",
        "```\n",
        "Topological sort: \n",
        "[0, 1, 2, 4, 5, 3]\n",
        "```"
      ]
    },
    {
      "cell_type": "code",
      "source": [
        "test_graph3 = {\n",
        "    0: [3],\n",
        "    1: [4],\n",
        "    2: [1, 4],\n",
        "    3: [],\n",
        "    4: [3],\n",
        "    5: [2, 4],\n",
        "}\n",
        "print(\"Topological sort:\")\n",
        "G3 = Graph(test_graph3)\n",
        "print(G3.topological_sort())"
      ],
      "metadata": {
        "colab": {
          "base_uri": "https://localhost:8080/"
        },
        "id": "MQGdkFWPtlQl",
        "outputId": "32809e72-a2fd-4182-d8ea-d42f3502d0c1"
      },
      "execution_count": 33,
      "outputs": [
        {
          "output_type": "stream",
          "name": "stdout",
          "text": [
            "Topological sort:\n",
            "Visiting:  0\n",
            "Visiting:  3\n",
            "Visiting:  1\n",
            "Visiting:  4\n",
            "Visiting:  2\n",
            "Visiting:  5\n",
            "[5, 2, 1, 4, 0, 3]\n"
          ]
        }
      ]
    },
    {
      "cell_type": "markdown",
      "source": [
        "This is the graph in Q4 of the tutorial.  You should see the following output\n",
        "\n",
        "Topological sort: \n",
        "[5, 2, 1, 4, 0, 3]"
      ],
      "metadata": {
        "id": "7Pac5483ts8Z"
      }
    },
    {
      "cell_type": "markdown",
      "metadata": {
        "id": "0DlrEa-tl5lJ"
      },
      "source": [
        "Now, let's execute your code. First, we need a new DAG, since our example has cycles and the topological ordering only makes sense for acyclic graphs."
      ]
    },
    {
      "cell_type": "code",
      "execution_count": 34,
      "metadata": {
        "id": "DOsigeZnl5lK",
        "colab": {
          "base_uri": "https://localhost:8080/"
        },
        "outputId": "f36f8363-8aa0-43eb-de1f-f104d0ab9a70"
      },
      "outputs": [
        {
          "output_type": "stream",
          "name": "stdout",
          "text": [
            "Visiting:  0\n",
            "Visiting:  1\n",
            "Visiting:  2\n",
            "Visiting:  5\n",
            "Visiting:  4\n",
            "Visiting:  3\n"
          ]
        },
        {
          "output_type": "execute_result",
          "data": {
            "text/plain": [
              "[3, 0, 1, 4, 2, 5]"
            ]
          },
          "metadata": {},
          "execution_count": 34
        }
      ],
      "source": [
        "graph3 = {\n",
        "    0: [1, 4],\n",
        "    1: [2, 4],\n",
        "    2: [5],\n",
        "    3: [0, 4],\n",
        "    4: [5],\n",
        "    5: [],\n",
        "}\n",
        "\n",
        "G3 = Graph(graph3)\n",
        "G3.topological_sort()"
      ]
    },
    {
      "cell_type": "markdown",
      "metadata": {
        "id": "XAu9-DrYl5lK"
      },
      "source": [
        "Let's visualise the test graph again, just to remember its topology."
      ]
    },
    {
      "cell_type": "code",
      "execution_count": 37,
      "metadata": {
        "scrolled": false,
        "id": "i1JN9upwl5lL",
        "colab": {
          "base_uri": "https://localhost:8080/",
          "height": 162
        },
        "outputId": "198e2988-8433-4210-d00e-e9e1b76267e4"
      },
      "outputs": [
        {
          "output_type": "execute_result",
          "data": {
            "text/plain": [
              "<graphviz.dot.Digraph at 0x7f14cbb871d0>"
            ],
            "image/svg+xml": "<?xml version=\"1.0\" encoding=\"UTF-8\" standalone=\"no\"?>\n<!DOCTYPE svg PUBLIC \"-//W3C//DTD SVG 1.1//EN\"\n \"http://www.w3.org/Graphics/SVG/1.1/DTD/svg11.dtd\">\n<!-- Generated by graphviz version 2.40.1 (20161225.0304)\n -->\n<!-- Title: %3 Pages: 1 -->\n<svg width=\"186pt\" height=\"106pt\"\n viewBox=\"0.00 0.00 186.01 106.01\" xmlns=\"http://www.w3.org/2000/svg\" xmlns:xlink=\"http://www.w3.org/1999/xlink\">\n<g id=\"graph0\" class=\"graph\" transform=\"scale(1 1) rotate(0) translate(4 102.0062)\">\n<title>%3</title>\n<polygon fill=\"#ffffff\" stroke=\"transparent\" points=\"-4,4 -4,-102.0062 182.0124,-102.0062 182.0124,4 -4,4\"/>\n<!-- 0 -->\n<g id=\"node1\" class=\"node\">\n<title>0</title>\n<ellipse fill=\"none\" stroke=\"#000000\" cx=\"27\" cy=\"-80.0062\" rx=\"27\" ry=\"18\"/>\n<text text-anchor=\"middle\" x=\"27\" y=\"-76.3062\" font-family=\"Times,serif\" font-size=\"14.00\" fill=\"#000000\">0</text>\n</g>\n<!-- 3 -->\n<g id=\"node4\" class=\"node\">\n<title>3</title>\n<ellipse fill=\"none\" stroke=\"#000000\" cx=\"27\" cy=\"-18\" rx=\"27\" ry=\"18\"/>\n<text text-anchor=\"middle\" x=\"27\" y=\"-14.3\" font-family=\"Times,serif\" font-size=\"14.00\" fill=\"#000000\">3</text>\n</g>\n<!-- 0&#45;&gt;3 -->\n<g id=\"edge1\" class=\"edge\">\n<title>0&#45;&gt;3</title>\n<path fill=\"none\" stroke=\"#000000\" d=\"M27,-61.7377C27,-56.9865 27,-51.7523 27,-46.6068\"/>\n<polygon fill=\"#000000\" stroke=\"#000000\" points=\"30.5001,-46.3522 27,-36.3522 23.5001,-46.3523 30.5001,-46.3522\"/>\n</g>\n<!-- 1 -->\n<g id=\"node2\" class=\"node\">\n<title>1</title>\n<ellipse fill=\"none\" stroke=\"#000000\" cx=\"89.0062\" cy=\"-80.0062\" rx=\"27\" ry=\"18\"/>\n<text text-anchor=\"middle\" x=\"89.0062\" y=\"-76.3062\" font-family=\"Times,serif\" font-size=\"14.00\" fill=\"#000000\">1</text>\n</g>\n<!-- 1&#45;&gt;0 -->\n<g id=\"edge2\" class=\"edge\">\n<title>1&#45;&gt;0</title>\n<path fill=\"none\" stroke=\"#000000\" d=\"M61.9898,-80.0062C61.8266,-80.0062 61.6632,-80.0062 61.4998,-80.0062\"/>\n<polygon fill=\"#000000\" stroke=\"#000000\" points=\"64.1179,-76.5063 54.1179,-80.0062 64.1178,-83.5063 64.1179,-76.5063\"/>\n</g>\n<!-- 4 -->\n<g id=\"node5\" class=\"node\">\n<title>4</title>\n<ellipse fill=\"none\" stroke=\"#000000\" cx=\"89.0062\" cy=\"-18\" rx=\"27\" ry=\"18\"/>\n<text text-anchor=\"middle\" x=\"89.0062\" y=\"-14.3\" font-family=\"Times,serif\" font-size=\"14.00\" fill=\"#000000\">4</text>\n</g>\n<!-- 1&#45;&gt;4 -->\n<g id=\"edge3\" class=\"edge\">\n<title>1&#45;&gt;4</title>\n<path fill=\"none\" stroke=\"#000000\" d=\"M89.0062,-61.7377C89.0062,-56.9865 89.0062,-51.7523 89.0062,-46.6068\"/>\n<polygon fill=\"#000000\" stroke=\"#000000\" points=\"92.5063,-46.3522 89.0062,-36.3522 85.5063,-46.3523 92.5063,-46.3522\"/>\n</g>\n<!-- 2 -->\n<g id=\"node3\" class=\"node\">\n<title>2</title>\n<ellipse fill=\"none\" stroke=\"#000000\" cx=\"151.0124\" cy=\"-80.0062\" rx=\"27\" ry=\"18\"/>\n<text text-anchor=\"middle\" x=\"151.0124\" y=\"-76.3062\" font-family=\"Times,serif\" font-size=\"14.00\" fill=\"#000000\">2</text>\n</g>\n<!-- 2&#45;&gt;1 -->\n<g id=\"edge4\" class=\"edge\">\n<title>2&#45;&gt;1</title>\n<path fill=\"none\" stroke=\"#000000\" d=\"M123.996,-80.0062C123.8328,-80.0062 123.6694,-80.0062 123.506,-80.0062\"/>\n<polygon fill=\"#000000\" stroke=\"#000000\" points=\"126.1241,-76.5063 116.1241,-80.0062 126.124,-83.5063 126.1241,-76.5063\"/>\n</g>\n<!-- 2&#45;&gt;4 -->\n<g id=\"edge5\" class=\"edge\">\n<title>2&#45;&gt;4</title>\n<path fill=\"none\" stroke=\"#000000\" d=\"M136.0024,-64.9962C128.6482,-57.642 119.6406,-48.6344 111.486,-40.4798\"/>\n<polygon fill=\"#000000\" stroke=\"#000000\" points=\"113.8547,-37.8987 104.3087,-33.3025 108.9049,-42.8485 113.8547,-37.8987\"/>\n</g>\n<!-- 3&#45;&gt;1 -->\n<g id=\"edge6\" class=\"edge\">\n<title>3&#45;&gt;1</title>\n<path fill=\"none\" stroke=\"#000000\" d=\"M42.01,-33.01C49.3642,-40.3642 58.3718,-49.3718 66.5264,-57.5264\"/>\n<polygon fill=\"#000000\" stroke=\"#000000\" points=\"64.1577,-60.1075 73.7037,-64.7037 69.1075,-55.1577 64.1577,-60.1075\"/>\n</g>\n<!-- 4&#45;&gt;3 -->\n<g id=\"edge7\" class=\"edge\">\n<title>4&#45;&gt;3</title>\n<path fill=\"none\" stroke=\"#000000\" d=\"M61.9898,-18C61.8266,-18 61.6632,-18 61.4998,-18\"/>\n<polygon fill=\"#000000\" stroke=\"#000000\" points=\"64.1179,-14.5001 54.1179,-18 64.1178,-21.5001 64.1179,-14.5001\"/>\n</g>\n<!-- 5 -->\n<g id=\"node6\" class=\"node\">\n<title>5</title>\n<ellipse fill=\"none\" stroke=\"#000000\" cx=\"151.0124\" cy=\"-18\" rx=\"27\" ry=\"18\"/>\n<text text-anchor=\"middle\" x=\"151.0124\" y=\"-14.3\" font-family=\"Times,serif\" font-size=\"14.00\" fill=\"#000000\">5</text>\n</g>\n<!-- 5&#45;&gt;2 -->\n<g id=\"edge8\" class=\"edge\">\n<title>5&#45;&gt;2</title>\n<path fill=\"none\" stroke=\"#000000\" d=\"M151.0124,-36.2685C151.0124,-41.0197 151.0124,-46.2539 151.0124,-51.3994\"/>\n<polygon fill=\"#000000\" stroke=\"#000000\" points=\"147.5125,-51.6539 151.0124,-61.654 154.5125,-51.654 147.5125,-51.6539\"/>\n</g>\n<!-- 5&#45;&gt;4 -->\n<g id=\"edge9\" class=\"edge\">\n<title>5&#45;&gt;4</title>\n<path fill=\"none\" stroke=\"#000000\" d=\"M123.996,-18C123.8328,-18 123.6694,-18 123.506,-18\"/>\n<polygon fill=\"#000000\" stroke=\"#000000\" points=\"126.1241,-14.5001 116.1241,-18 126.124,-21.5001 126.1241,-14.5001\"/>\n</g>\n</g>\n</svg>\n"
          },
          "metadata": {},
          "execution_count": 37
        }
      ],
      "source": [
        "G = Graph(graph)\n",
        "G.show(positions=pos)"
      ]
    },
    {
      "cell_type": "markdown",
      "metadata": {
        "id": "e9ETpbm4l5lL"
      },
      "source": [
        "We can use graphViz to visualize the topological sort output graphically to confirm our code is correct. "
      ]
    },
    {
      "cell_type": "code",
      "execution_count": 38,
      "metadata": {
        "id": "XO17ZTGVl5lM",
        "colab": {
          "base_uri": "https://localhost:8080/",
          "height": 219
        },
        "outputId": "3ddc40dd-0b95-43f5-cd83-bcb7413f5745"
      },
      "outputs": [
        {
          "output_type": "stream",
          "name": "stdout",
          "text": [
            "Visiting:  0\n",
            "Visiting:  3\n",
            "Visiting:  1\n",
            "Visiting:  4\n",
            "Visiting:  2\n",
            "Visiting:  5\n"
          ]
        },
        {
          "output_type": "execute_result",
          "data": {
            "text/plain": [
              "<graphviz.dot.Digraph at 0x7f14cc2701d0>"
            ],
            "image/svg+xml": "<?xml version=\"1.0\" encoding=\"UTF-8\" standalone=\"no\"?>\n<!DOCTYPE svg PUBLIC \"-//W3C//DTD SVG 1.1//EN\"\n \"http://www.w3.org/Graphics/SVG/1.1/DTD/svg11.dtd\">\n<!-- Generated by graphviz version 2.40.1 (20161225.0304)\n -->\n<!-- Title: %3 Pages: 1 -->\n<svg width=\"372pt\" height=\"72pt\"\n viewBox=\"0.00 0.00 372.03 71.82\" xmlns=\"http://www.w3.org/2000/svg\" xmlns:xlink=\"http://www.w3.org/1999/xlink\">\n<g id=\"graph0\" class=\"graph\" transform=\"scale(1 1) rotate(0) translate(4 67.8184)\">\n<title>%3</title>\n<polygon fill=\"#ffffff\" stroke=\"transparent\" points=\"-4,4 -4,-67.8184 368.031,-67.8184 368.031,4 -4,4\"/>\n<!-- 5 -->\n<g id=\"node1\" class=\"node\">\n<title>5</title>\n<ellipse fill=\"none\" stroke=\"#000000\" cx=\"27\" cy=\"-32.6851\" rx=\"27\" ry=\"18\"/>\n<text text-anchor=\"middle\" x=\"27\" y=\"-28.9851\" font-family=\"Times,serif\" font-size=\"14.00\" fill=\"#000000\">5</text>\n</g>\n<!-- 2 -->\n<g id=\"node2\" class=\"node\">\n<title>2</title>\n<ellipse fill=\"none\" stroke=\"#000000\" cx=\"89.0062\" cy=\"-32.6851\" rx=\"27\" ry=\"18\"/>\n<text text-anchor=\"middle\" x=\"89.0062\" y=\"-28.9851\" font-family=\"Times,serif\" font-size=\"14.00\" fill=\"#000000\">2</text>\n</g>\n<!-- 5&#45;&gt;2 -->\n<g id=\"edge1\" class=\"edge\">\n<title>5&#45;&gt;2</title>\n<path fill=\"none\" stroke=\"#000000\" d=\"M54.0164,-32.6851C54.1796,-32.6851 54.343,-32.6851 54.5064,-32.6851\"/>\n<polygon fill=\"#000000\" stroke=\"#000000\" points=\"51.8884,-36.1852 61.8883,-32.6851 51.8883,-29.1852 51.8884,-36.1852\"/>\n</g>\n<!-- 4 -->\n<g id=\"node6\" class=\"node\">\n<title>4</title>\n<ellipse fill=\"none\" stroke=\"#000000\" cx=\"337.031\" cy=\"-32.6851\" rx=\"27\" ry=\"18\"/>\n<text text-anchor=\"middle\" x=\"337.031\" y=\"-28.9851\" font-family=\"Times,serif\" font-size=\"14.00\" fill=\"#000000\">4</text>\n</g>\n<!-- 5&#45;&gt;4 -->\n<g id=\"edge2\" class=\"edge\">\n<title>5&#45;&gt;4</title>\n<path fill=\"none\" stroke=\"#000000\" d=\"M50.3699,-42.1181C61.7746,-46.1932 75.8211,-50.4453 88.8762,-52.2848 170.7285,-63.8184 192.9677,-63.5082 274.8631,-52.2847 284.5789,-50.9532 294.8405,-48.2773 304.1651,-45.3198\"/>\n<polygon fill=\"#000000\" stroke=\"#000000\" points=\"305.4911,-48.5663 313.8453,-42.0503 303.2511,-41.9343 305.4911,-48.5663\"/>\n</g>\n<!-- 1 -->\n<g id=\"node5\" class=\"node\">\n<title>1</title>\n<ellipse fill=\"none\" stroke=\"#000000\" cx=\"275.0248\" cy=\"-32.6851\" rx=\"27\" ry=\"18\"/>\n<text text-anchor=\"middle\" x=\"275.0248\" y=\"-28.9851\" font-family=\"Times,serif\" font-size=\"14.00\" fill=\"#000000\">1</text>\n</g>\n<!-- 2&#45;&gt;1 -->\n<g id=\"edge3\" class=\"edge\">\n<title>2&#45;&gt;1</title>\n<path fill=\"none\" stroke=\"#000000\" d=\"M113.3409,-24.345C119.0991,-22.4366 125.2311,-20.457 130.9587,-18.7105 139.9107,-15.9808 141.9776,-14.3472 151.2512,-13.0857 178.4951,-9.3796 185.887,-9.261 213.1147,-13.0852 222.7894,-14.444 233.0082,-17.1287 242.2941,-20.086\"/>\n<polygon fill=\"#000000\" stroke=\"#000000\" points=\"241.34,-23.4581 251.9343,-23.3521 243.5862,-16.8283 241.34,-23.4581\"/>\n</g>\n<!-- 2&#45;&gt;4 -->\n<g id=\"edge4\" class=\"edge\">\n<title>2&#45;&gt;4</title>\n<path fill=\"none\" stroke=\"#000000\" d=\"M113.3409,-24.345C119.0991,-22.4366 125.2311,-20.457 130.9587,-18.7105 192.3194,0 211.6678,-4.1083 275.1865,-13.0854 284.7688,-14.4396 294.8856,-17.0927 304.0986,-20.0202\"/>\n<polygon fill=\"#000000\" stroke=\"#000000\" points=\"303.0787,-23.37 313.673,-23.2561 305.3201,-16.7385 303.0787,-23.37\"/>\n</g>\n<!-- 0 -->\n<g id=\"node3\" class=\"node\">\n<title>0</title>\n<ellipse fill=\"none\" stroke=\"#000000\" cx=\"151.0124\" cy=\"-32.6851\" rx=\"27\" ry=\"18\"/>\n<text text-anchor=\"middle\" x=\"151.0124\" y=\"-28.9851\" font-family=\"Times,serif\" font-size=\"14.00\" fill=\"#000000\">0</text>\n</g>\n<!-- 3 -->\n<g id=\"node4\" class=\"node\">\n<title>3</title>\n<ellipse fill=\"none\" stroke=\"#000000\" cx=\"213.0186\" cy=\"-32.6851\" rx=\"27\" ry=\"18\"/>\n<text text-anchor=\"middle\" x=\"213.0186\" y=\"-28.9851\" font-family=\"Times,serif\" font-size=\"14.00\" fill=\"#000000\">3</text>\n</g>\n<!-- 0&#45;&gt;3 -->\n<g id=\"edge5\" class=\"edge\">\n<title>0&#45;&gt;3</title>\n<path fill=\"none\" stroke=\"#000000\" d=\"M178.0288,-32.6851C178.192,-32.6851 178.3554,-32.6851 178.5188,-32.6851\"/>\n<polygon fill=\"#000000\" stroke=\"#000000\" points=\"175.9008,-36.1852 185.9007,-32.6851 175.9007,-29.1852 175.9008,-36.1852\"/>\n</g>\n<!-- 3&#45;&gt;1 -->\n<g id=\"edge6\" class=\"edge\">\n<title>3&#45;&gt;1</title>\n<path fill=\"none\" stroke=\"#000000\" d=\"M240.035,-32.6851C240.1982,-32.6851 240.3616,-32.6851 240.525,-32.6851\"/>\n<polygon fill=\"#000000\" stroke=\"#000000\" points=\"237.907,-36.1852 247.9069,-32.6851 237.9069,-29.1852 237.907,-36.1852\"/>\n</g>\n<!-- 1&#45;&gt;0 -->\n<g id=\"edge7\" class=\"edge\">\n<title>1&#45;&gt;0</title>\n<path fill=\"none\" stroke=\"#000000\" d=\"M252.9138,-22.1104C241.3332,-17.4998 226.7563,-13.1192 213.1147,-13.0852 202.9615,-13.0598 192.2895,-15.4642 182.7121,-18.5968\"/>\n<polygon fill=\"#000000\" stroke=\"#000000\" points=\"181.3995,-15.3497 173.1952,-22.0535 183.7894,-21.9292 181.3995,-15.3497\"/>\n</g>\n<!-- 1&#45;&gt;4 -->\n<g id=\"edge8\" class=\"edge\">\n<title>1&#45;&gt;4</title>\n<path fill=\"none\" stroke=\"#000000\" d=\"M302.0412,-32.6851C302.2044,-32.6851 302.3678,-32.6851 302.5312,-32.6851\"/>\n<polygon fill=\"#000000\" stroke=\"#000000\" points=\"299.9132,-36.1852 309.9131,-32.6851 299.9131,-29.1852 299.9132,-36.1852\"/>\n</g>\n<!-- 4&#45;&gt;3 -->\n<g id=\"edge9\" class=\"edge\">\n<title>4&#45;&gt;3</title>\n<path fill=\"none\" stroke=\"#000000\" d=\"M314.9445,-22.1299C303.3765,-17.5244 288.8149,-13.1426 275.1865,-13.0854 264.9397,-13.0423 254.164,-15.4817 244.5156,-18.6528\"/>\n<polygon fill=\"#000000\" stroke=\"#000000\" points=\"243.1318,-15.432 234.9383,-22.149 245.5322,-22.0076 243.1318,-15.432\"/>\n</g>\n</g>\n</svg>\n"
          },
          "metadata": {},
          "execution_count": 38
        }
      ],
      "source": [
        "# We use the neato engine since it allow to position the nodes\n",
        "dot = graphviz.Digraph(engine=\"neato\", comment='Topological sort')\n",
        "# This line will avoid the edges to cross over the nodes\n",
        "dot.attr(overlap=\"false\", splines=\"true\")\n",
        "\n",
        "s = G.topological_sort()\n",
        "\n",
        "# Create nodes in sequence positions determined by the stack s\n",
        "for i, v in enumerate(s, 1):\n",
        "    dot.node(str(v), pos=str(i)+',0!')\n",
        "\n",
        "# Create edges\n",
        "for v in s:\n",
        "    for w in graph[v]:\n",
        "        dot.edge(str(v), str(w))\n",
        "\n",
        "dot"
      ]
    },
    {
      "cell_type": "markdown",
      "metadata": {
        "id": "o_oQGCOll5lN"
      },
      "source": [
        "# Transpose Graph\n",
        "\n",
        "Transposition is an operation over a directed graph $G$ that results in another directed graph on the same set of vertices with all of the edges reversed. The following figure illustrates this process, with a graph $G$ on the left side and its transpose $G^T$ on the right side:\n",
        "\n",
        "![Transpose graph](img/Transpose_graph.png \"Transpose Graph\")\n",
        "\n",
        "\n",
        "## Exercise\n",
        "\n",
        "Implement the transpose operation over our graph representation. Take a graph as input and produce its transpose as output."
      ]
    },
    {
      "cell_type": "code",
      "execution_count": 39,
      "metadata": {
        "id": "9Ix8TzWQl5lO"
      },
      "outputs": [],
      "source": [
        "class Graph(Graph):\n",
        "    def transpose(self):\n",
        "        \"\"\"\n",
        "        argument \n",
        "        `G`, an adjacency list representation of a graph\n",
        "        \"\"\"      \n",
        "        gt = dict((v, []) for v in self.adj_list)\n",
        "        for v in self.adj_list:\n",
        "          for u in self.adj_list[v]:\n",
        "            gt[u].append(v)\n",
        "        \n",
        "        ...\n",
        "        return Graph(gt)"
      ]
    },
    {
      "cell_type": "markdown",
      "metadata": {
        "id": "g7hODvD5l5lO"
      },
      "source": [
        "Let's write some code for testing. First, we define the same test graph as the figure above. We will call our transpose_graph routine and use the Graphviz library to plot the transposed graph. We have done the code for you below. You can compare the output with the figure above to check if your code is correct."
      ]
    },
    {
      "cell_type": "code",
      "execution_count": 41,
      "metadata": {
        "id": "7OoXaW92l5lO",
        "colab": {
          "base_uri": "https://localhost:8080/",
          "height": 162
        },
        "outputId": "0af35136-784f-431a-f8e0-61dee9fc890f"
      },
      "outputs": [
        {
          "output_type": "execute_result",
          "data": {
            "text/plain": [
              "<graphviz.dot.Digraph at 0x7f14c39490d0>"
            ],
            "image/svg+xml": "<?xml version=\"1.0\" encoding=\"UTF-8\" standalone=\"no\"?>\n<!DOCTYPE svg PUBLIC \"-//W3C//DTD SVG 1.1//EN\"\n \"http://www.w3.org/Graphics/SVG/1.1/DTD/svg11.dtd\">\n<!-- Generated by graphviz version 2.40.1 (20161225.0304)\n -->\n<!-- Title: %3 Pages: 1 -->\n<svg width=\"186pt\" height=\"106pt\"\n viewBox=\"0.00 0.00 186.01 106.01\" xmlns=\"http://www.w3.org/2000/svg\" xmlns:xlink=\"http://www.w3.org/1999/xlink\">\n<g id=\"graph0\" class=\"graph\" transform=\"scale(1 1) rotate(0) translate(4 102.0062)\">\n<title>%3</title>\n<polygon fill=\"#ffffff\" stroke=\"transparent\" points=\"-4,4 -4,-102.0062 182.0124,-102.0062 182.0124,4 -4,4\"/>\n<!-- 0 -->\n<g id=\"node1\" class=\"node\">\n<title>0</title>\n<ellipse fill=\"none\" stroke=\"#000000\" cx=\"27\" cy=\"-80.0062\" rx=\"27\" ry=\"18\"/>\n<text text-anchor=\"middle\" x=\"27\" y=\"-76.3062\" font-family=\"Times,serif\" font-size=\"14.00\" fill=\"#000000\">0</text>\n</g>\n<!-- 1 -->\n<g id=\"node2\" class=\"node\">\n<title>1</title>\n<ellipse fill=\"none\" stroke=\"#000000\" cx=\"89.0062\" cy=\"-80.0062\" rx=\"27\" ry=\"18\"/>\n<text text-anchor=\"middle\" x=\"89.0062\" y=\"-76.3062\" font-family=\"Times,serif\" font-size=\"14.00\" fill=\"#000000\">1</text>\n</g>\n<!-- 0&#45;&gt;1 -->\n<g id=\"edge1\" class=\"edge\">\n<title>0&#45;&gt;1</title>\n<path fill=\"none\" stroke=\"#000000\" d=\"M54.0164,-80.0062C54.1796,-80.0062 54.343,-80.0062 54.5064,-80.0062\"/>\n<polygon fill=\"#000000\" stroke=\"#000000\" points=\"51.8884,-83.5063 61.8883,-80.0062 51.8883,-76.5063 51.8884,-83.5063\"/>\n</g>\n<!-- 2 -->\n<g id=\"node3\" class=\"node\">\n<title>2</title>\n<ellipse fill=\"none\" stroke=\"#000000\" cx=\"151.0124\" cy=\"-80.0062\" rx=\"27\" ry=\"18\"/>\n<text text-anchor=\"middle\" x=\"151.0124\" y=\"-76.3062\" font-family=\"Times,serif\" font-size=\"14.00\" fill=\"#000000\">2</text>\n</g>\n<!-- 1&#45;&gt;2 -->\n<g id=\"edge2\" class=\"edge\">\n<title>1&#45;&gt;2</title>\n<path fill=\"none\" stroke=\"#000000\" d=\"M116.0226,-80.0062C116.1858,-80.0062 116.3492,-80.0062 116.5126,-80.0062\"/>\n<polygon fill=\"#000000\" stroke=\"#000000\" points=\"113.8946,-83.5063 123.8945,-80.0062 113.8945,-76.5063 113.8946,-83.5063\"/>\n</g>\n<!-- 3 -->\n<g id=\"node4\" class=\"node\">\n<title>3</title>\n<ellipse fill=\"none\" stroke=\"#000000\" cx=\"27\" cy=\"-18\" rx=\"27\" ry=\"18\"/>\n<text text-anchor=\"middle\" x=\"27\" y=\"-14.3\" font-family=\"Times,serif\" font-size=\"14.00\" fill=\"#000000\">3</text>\n</g>\n<!-- 1&#45;&gt;3 -->\n<g id=\"edge3\" class=\"edge\">\n<title>1&#45;&gt;3</title>\n<path fill=\"none\" stroke=\"#000000\" d=\"M73.9962,-64.9962C66.642,-57.642 57.6344,-48.6344 49.4798,-40.4798\"/>\n<polygon fill=\"#000000\" stroke=\"#000000\" points=\"51.8485,-37.8987 42.3025,-33.3025 46.8987,-42.8485 51.8485,-37.8987\"/>\n</g>\n<!-- 5 -->\n<g id=\"node6\" class=\"node\">\n<title>5</title>\n<ellipse fill=\"none\" stroke=\"#000000\" cx=\"151.0124\" cy=\"-18\" rx=\"27\" ry=\"18\"/>\n<text text-anchor=\"middle\" x=\"151.0124\" y=\"-14.3\" font-family=\"Times,serif\" font-size=\"14.00\" fill=\"#000000\">5</text>\n</g>\n<!-- 2&#45;&gt;5 -->\n<g id=\"edge4\" class=\"edge\">\n<title>2&#45;&gt;5</title>\n<path fill=\"none\" stroke=\"#000000\" d=\"M151.0124,-61.7377C151.0124,-56.9865 151.0124,-51.7523 151.0124,-46.6068\"/>\n<polygon fill=\"#000000\" stroke=\"#000000\" points=\"154.5125,-46.3522 151.0124,-36.3522 147.5125,-46.3523 154.5125,-46.3522\"/>\n</g>\n<!-- 3&#45;&gt;0 -->\n<g id=\"edge5\" class=\"edge\">\n<title>3&#45;&gt;0</title>\n<path fill=\"none\" stroke=\"#000000\" d=\"M27,-36.2685C27,-41.0197 27,-46.2539 27,-51.3994\"/>\n<polygon fill=\"#000000\" stroke=\"#000000\" points=\"23.5001,-51.6539 27,-61.654 30.5001,-51.654 23.5001,-51.6539\"/>\n</g>\n<!-- 4 -->\n<g id=\"node5\" class=\"node\">\n<title>4</title>\n<ellipse fill=\"none\" stroke=\"#000000\" cx=\"89.0062\" cy=\"-18\" rx=\"27\" ry=\"18\"/>\n<text text-anchor=\"middle\" x=\"89.0062\" y=\"-14.3\" font-family=\"Times,serif\" font-size=\"14.00\" fill=\"#000000\">4</text>\n</g>\n<!-- 3&#45;&gt;4 -->\n<g id=\"edge6\" class=\"edge\">\n<title>3&#45;&gt;4</title>\n<path fill=\"none\" stroke=\"#000000\" d=\"M54.0164,-18C54.1796,-18 54.343,-18 54.5064,-18\"/>\n<polygon fill=\"#000000\" stroke=\"#000000\" points=\"51.8884,-21.5001 61.8883,-18 51.8883,-14.5001 51.8884,-21.5001\"/>\n</g>\n<!-- 4&#45;&gt;1 -->\n<g id=\"edge7\" class=\"edge\">\n<title>4&#45;&gt;1</title>\n<path fill=\"none\" stroke=\"#000000\" d=\"M89.0062,-36.2685C89.0062,-41.0197 89.0062,-46.2539 89.0062,-51.3994\"/>\n<polygon fill=\"#000000\" stroke=\"#000000\" points=\"85.5063,-51.6539 89.0062,-61.654 92.5063,-51.654 85.5063,-51.6539\"/>\n</g>\n<!-- 4&#45;&gt;2 -->\n<g id=\"edge8\" class=\"edge\">\n<title>4&#45;&gt;2</title>\n<path fill=\"none\" stroke=\"#000000\" d=\"M104.0162,-33.01C111.3704,-40.3642 120.378,-49.3718 128.5326,-57.5264\"/>\n<polygon fill=\"#000000\" stroke=\"#000000\" points=\"126.1639,-60.1075 135.7099,-64.7037 131.1137,-55.1577 126.1639,-60.1075\"/>\n</g>\n<!-- 5&#45;&gt;4 -->\n<g id=\"edge9\" class=\"edge\">\n<title>5&#45;&gt;4</title>\n<path fill=\"none\" stroke=\"#000000\" d=\"M123.996,-18C123.8328,-18 123.6694,-18 123.506,-18\"/>\n<polygon fill=\"#000000\" stroke=\"#000000\" points=\"126.1241,-14.5001 116.1241,-18 126.124,-21.5001 126.1241,-14.5001\"/>\n</g>\n</g>\n</svg>\n"
          },
          "metadata": {},
          "execution_count": 41
        }
      ],
      "source": [
        "#######################################\n",
        "# Test code\n",
        "#######################################\n",
        "\n",
        "test_graph = {\n",
        "    0: [3],\n",
        "    1: [0, 4],\n",
        "    2: [1, 4],\n",
        "    3: [1],\n",
        "    4: [3, 5],\n",
        "    5: [2],\n",
        "}\n",
        "\n",
        "pos = {\n",
        "    0: '0,1!',\n",
        "    1: '1,1!',\n",
        "    2: '2,1!',\n",
        "    3: '0,0!',\n",
        "    4: '1,0!',\n",
        "    5: '2,0!',\n",
        "}\n",
        "\n",
        "G = Graph(test_graph)\n",
        "GT = G.transpose()\n",
        "GT.show(positions=pos)"
      ]
    },
    {
      "cell_type": "markdown",
      "metadata": {
        "id": "1-6xsO4wl5lP"
      },
      "source": [
        "# Minimum Spanning Trees\n",
        "\n",
        "Minimum spanning tree (MST) is an operation on weighted undirected graphs. We receive a graph $G=(V,E)$ and we should return the spanning tree of $G$ that has a minimum cost.\n",
        "\n",
        "A spanning tree is a graph with the same set of vertices $V$ of $G$, but with potentially fewer edges. A spanning tree is a graph with no cycles. If $G$ has $n$ edges, its spanning tree must have $n-1$ edges.\n",
        "\n",
        "The minimum spanning tree is the spanning tree whose sum of edge weights is the smallest among all spanning trees.\n",
        "\n",
        "The next figure shows a weighted undirect graph is its corresponding MST.\n",
        "\n",
        "![MST](img/spanning_tree.png \"MST\")"
      ]
    },
    {
      "cell_type": "markdown",
      "metadata": {
        "id": "tkpSDcsul5lP"
      },
      "source": [
        "Let's start by augmenting our graph representation to allow weighted edges, and adding methods to allow us to easily add nodes and edges to the graph. For later convenience, we will also add functions to remove nodes, iterate over all nodes, and get the children of a node. "
      ]
    },
    {
      "cell_type": "code",
      "execution_count": 42,
      "metadata": {
        "id": "eONU2Ihxl5lP",
        "colab": {
          "base_uri": "https://localhost:8080/"
        },
        "outputId": "aa63697e-65d6-4f99-c18d-ad77ce313949"
      },
      "outputs": [
        {
          "output_type": "stream",
          "name": "stdout",
          "text": [
            "The number of nodes in the graph is 6\n",
            "List of all nodes in the graph:\n",
            "0\n",
            "1\n",
            "2\n",
            "3\n",
            "4\n",
            "5\n",
            "0 is child of 1\n",
            "Children of 1 are [0, 4]\n"
          ]
        }
      ],
      "source": [
        "class Graph(Graph):\n",
        "    def __init__(self, adj_list=None):\n",
        "        self.adj_list = dict()\n",
        "        if adj_list is not None:\n",
        "            self.adj_list = adj_list.copy() # dict with graph's adjacency list\n",
        "        self.colour = dict()\n",
        "        self.edge_weights = dict() # maps a tuple (node1, node2) to a number\n",
        "\n",
        "    def __len__(self):\n",
        "        '''\n",
        "        return the number of nodes in the graph\n",
        "        '''\n",
        "        return len(self.adj_list.keys())\n",
        "\n",
        "    def __iter__(self):\n",
        "        '''\n",
        "        Let a user iterate over the nodes of the graph, like:\n",
        "        for node in graph:\n",
        "            print(node)\n",
        "        '''\n",
        "        return iter(self.adj_list.keys())\n",
        "    \n",
        "    def children(self, node):\n",
        "        '''\n",
        "        Return a list of children of a node\n",
        "        '''\n",
        "        return self.adj_list[node]\n",
        "\n",
        "    def add_node(self, name):\n",
        "        '''\n",
        "        This method adds a node to the graph.\n",
        "        '''\n",
        "        if name not in self.adj_list:\n",
        "            self.adj_list[name] = []\n",
        "\n",
        "    def remove_node(self, name):\n",
        "        '''\n",
        "        This method removes a node, and any edges to or from the node\n",
        "        '''\n",
        "        for node in self.adj_list.keys():\n",
        "            if name in self.adj_list[node]:\n",
        "                self.adj_list[node].remove(name)\n",
        "        del self.adj_list[name]\n",
        "\n",
        "    def add_edge(self, node1, node2, weight=1, directed=True):\n",
        "        '''\n",
        "        This function adds an edge. If directed is false, it adds an edge in both directions\n",
        "        '''\n",
        "        # in case they don't already exist, add these nodes to the graph\n",
        "        self.add_node(node1)\n",
        "        self.add_node(node2)\n",
        "        \n",
        "        self.adj_list[node1].append(node2)\n",
        "        self.edge_weights[(node1,node2)] = weight\n",
        "        \n",
        "        if not directed:\n",
        "            self.adj_list[node2].append(node1)\n",
        "            self.edge_weights[(node2,node1)] = weight\n",
        "\n",
        "# Reinitialise graph G\n",
        "G = Graph(graph)\n",
        "\n",
        "### Example usage\n",
        "print(f\"The number of nodes in the graph is {len(G)}\")\n",
        "\n",
        "print(\"List of all nodes in the graph:\")\n",
        "for node in G:\n",
        "    print(node)\n",
        "    \n",
        "# check if 0 is a child of 1\n",
        "if 0 in G.children(1):\n",
        "    print(\"0 is child of 1\")\n",
        "else:\n",
        "    print(\"0 is not child of 1\")\n",
        "\n",
        "print(f\"Children of 1 are {G.children(1)}\")\n"
      ]
    },
    {
      "cell_type": "markdown",
      "metadata": {
        "id": "1wo8FJqAl5lQ"
      },
      "source": [
        "\n",
        "## Exercise\n",
        "\n",
        "Represent the graph on the left side of the previous figure using the proposed augmented representation. We have started and completed the first row."
      ]
    },
    {
      "cell_type": "code",
      "execution_count": 43,
      "metadata": {
        "id": "EehZ4emvl5lR",
        "colab": {
          "base_uri": "https://localhost:8080/",
          "height": 328
        },
        "outputId": "07ebba80-f1fb-4f4e-d60e-7d666aa8165c"
      },
      "outputs": [
        {
          "output_type": "execute_result",
          "data": {
            "text/plain": [
              "<graphviz.dot.Graph at 0x7f14c3966390>"
            ],
            "image/svg+xml": "<?xml version=\"1.0\" encoding=\"UTF-8\" standalone=\"no\"?>\n<!DOCTYPE svg PUBLIC \"-//W3C//DTD SVG 1.1//EN\"\n \"http://www.w3.org/Graphics/SVG/1.1/DTD/svg11.dtd\">\n<!-- Generated by graphviz version 2.40.1 (20161225.0304)\n -->\n<!-- Title: %3 Pages: 1 -->\n<svg width=\"310pt\" height=\"230pt\"\n viewBox=\"0.00 0.00 310.02 230.02\" xmlns=\"http://www.w3.org/2000/svg\" xmlns:xlink=\"http://www.w3.org/1999/xlink\">\n<g id=\"graph0\" class=\"graph\" transform=\"scale(1 1) rotate(0) translate(4 226.0186)\">\n<title>%3</title>\n<polygon fill=\"#ffffff\" stroke=\"transparent\" points=\"-4,4 -4,-226.0186 306.0248,-226.0186 306.0248,4 -4,4\"/>\n<!-- 0 -->\n<g id=\"node1\" class=\"node\">\n<title>0</title>\n<ellipse fill=\"none\" stroke=\"#000000\" cx=\"89.0062\" cy=\"-204.0186\" rx=\"27\" ry=\"18\"/>\n<text text-anchor=\"middle\" x=\"89.0062\" y=\"-200.3186\" font-family=\"Times,serif\" font-size=\"14.00\" fill=\"#000000\">0</text>\n</g>\n<!-- 2 -->\n<g id=\"node2\" class=\"node\">\n<title>2</title>\n<ellipse fill=\"none\" stroke=\"#000000\" cx=\"27\" cy=\"-142.0124\" rx=\"27\" ry=\"18\"/>\n<text text-anchor=\"middle\" x=\"27\" y=\"-138.3124\" font-family=\"Times,serif\" font-size=\"14.00\" fill=\"#000000\">2</text>\n</g>\n<!-- 0&#45;&#45;2 -->\n<g id=\"edge1\" class=\"edge\">\n<title>0&#45;&#45;2</title>\n<path fill=\"none\" stroke=\"#000000\" d=\"M73.9962,-189.0086C64.3907,-179.4031 51.9646,-166.977 42.3025,-157.3149\"/>\n</g>\n<!-- 1 -->\n<g id=\"node3\" class=\"node\">\n<title>1</title>\n<ellipse fill=\"none\" stroke=\"#000000\" cx=\"275.0248\" cy=\"-204.0186\" rx=\"27\" ry=\"18\"/>\n<text text-anchor=\"middle\" x=\"275.0248\" y=\"-200.3186\" font-family=\"Times,serif\" font-size=\"14.00\" fill=\"#000000\">1</text>\n</g>\n<!-- 0&#45;&#45;1 -->\n<g id=\"edge2\" class=\"edge\">\n<title>0&#45;&#45;1</title>\n<path fill=\"none\" stroke=\"#000000\" d=\"M116.0549,-204.0186C151.3227,-204.0186 212.6595,-204.0186 247.9435,-204.0186\"/>\n</g>\n<!-- 3 -->\n<g id=\"node4\" class=\"node\">\n<title>3</title>\n<ellipse fill=\"none\" stroke=\"#000000\" cx=\"89.0062\" cy=\"-80.0062\" rx=\"27\" ry=\"18\"/>\n<text text-anchor=\"middle\" x=\"89.0062\" y=\"-76.3062\" font-family=\"Times,serif\" font-size=\"14.00\" fill=\"#000000\">3</text>\n</g>\n<!-- 2&#45;&#45;3 -->\n<g id=\"edge3\" class=\"edge\">\n<title>2&#45;&#45;3</title>\n<path fill=\"none\" stroke=\"#000000\" d=\"M42.01,-127.0024C51.6155,-117.3969 64.0416,-104.9708 73.7037,-95.3087\"/>\n</g>\n<!-- 6 -->\n<g id=\"node7\" class=\"node\">\n<title>6</title>\n<ellipse fill=\"none\" stroke=\"#000000\" cx=\"27\" cy=\"-18\" rx=\"27\" ry=\"18\"/>\n<text text-anchor=\"middle\" x=\"27\" y=\"-14.3\" font-family=\"Times,serif\" font-size=\"14.00\" fill=\"#000000\">6</text>\n</g>\n<!-- 2&#45;&#45;6 -->\n<g id=\"edge4\" class=\"edge\">\n<title>2&#45;&#45;6</title>\n<path fill=\"none\" stroke=\"#000000\" d=\"M27,-123.9799C27,-100.468 27,-59.5768 27,-36.0542\"/>\n</g>\n<!-- 1&#45;&#45;3 -->\n<g id=\"edge5\" class=\"edge\">\n<title>1&#45;&#45;3</title>\n<path fill=\"none\" stroke=\"#000000\" d=\"M255.8182,-191.2142C220.0798,-167.3886 143.7675,-116.5137 108.1083,-92.741\"/>\n</g>\n<!-- 4 -->\n<g id=\"node5\" class=\"node\">\n<title>4</title>\n<ellipse fill=\"none\" stroke=\"#000000\" cx=\"213.0186\" cy=\"-80.0062\" rx=\"27\" ry=\"18\"/>\n<text text-anchor=\"middle\" x=\"213.0186\" y=\"-76.3062\" font-family=\"Times,serif\" font-size=\"14.00\" fill=\"#000000\">4</text>\n</g>\n<!-- 1&#45;&#45;4 -->\n<g id=\"edge6\" class=\"edge\">\n<title>1&#45;&#45;4</title>\n<path fill=\"none\" stroke=\"#000000\" d=\"M266.4031,-186.7752C254.5566,-163.0823 233.3749,-120.7188 221.5671,-97.1031\"/>\n</g>\n<!-- 5 -->\n<g id=\"node6\" class=\"node\">\n<title>5</title>\n<ellipse fill=\"none\" stroke=\"#000000\" cx=\"151.0124\" cy=\"-80.0062\" rx=\"27\" ry=\"18\"/>\n<text text-anchor=\"middle\" x=\"151.0124\" y=\"-76.3062\" font-family=\"Times,serif\" font-size=\"14.00\" fill=\"#000000\">5</text>\n</g>\n<!-- 1&#45;&#45;5 -->\n<g id=\"edge7\" class=\"edge\">\n<title>1&#45;&#45;5</title>\n<path fill=\"none\" stroke=\"#000000\" d=\"M259.8184,-188.8122C236.0171,-165.0109 190.2208,-119.2146 166.3431,-95.3369\"/>\n</g>\n<!-- 3&#45;&#45;5 -->\n<g id=\"edge8\" class=\"edge\">\n<title>3&#45;&#45;5</title>\n<path fill=\"none\" stroke=\"#000000\" d=\"M116.0226,-80.0062C118.6335,-80.0062 121.2827,-80.0062 123.8945,-80.0062\"/>\n</g>\n<!-- 3&#45;&#45;6 -->\n<g id=\"edge9\" class=\"edge\">\n<title>3&#45;&#45;6</title>\n<path fill=\"none\" stroke=\"#000000\" d=\"M73.9962,-64.9962C64.3907,-55.3907 51.9646,-42.9646 42.3025,-33.3025\"/>\n</g>\n<!-- 4&#45;&#45;5 -->\n<g id=\"edge10\" class=\"edge\">\n<title>4&#45;&#45;5</title>\n<path fill=\"none\" stroke=\"#000000\" d=\"M186.0022,-80.0062C183.3913,-80.0062 180.7421,-80.0062 178.1303,-80.0062\"/>\n</g>\n<!-- 7 -->\n<g id=\"node8\" class=\"node\">\n<title>7</title>\n<ellipse fill=\"none\" stroke=\"#000000\" cx=\"275.0248\" cy=\"-18\" rx=\"27\" ry=\"18\"/>\n<text text-anchor=\"middle\" x=\"275.0248\" y=\"-14.3\" font-family=\"Times,serif\" font-size=\"14.00\" fill=\"#000000\">7</text>\n</g>\n<!-- 4&#45;&#45;7 -->\n<g id=\"edge11\" class=\"edge\">\n<title>4&#45;&#45;7</title>\n<path fill=\"none\" stroke=\"#000000\" d=\"M228.0286,-64.9962C237.6341,-55.3907 250.0602,-42.9646 259.7223,-33.3025\"/>\n</g>\n<!-- 5&#45;&#45;6 -->\n<g id=\"edge12\" class=\"edge\">\n<title>5&#45;&#45;6</title>\n<path fill=\"none\" stroke=\"#000000\" d=\"M129.4111,-69.2055C106.7882,-57.8941 71.4556,-40.2278 48.7699,-28.8849\"/>\n</g>\n<!-- 5&#45;&#45;7 -->\n<g id=\"edge13\" class=\"edge\">\n<title>5&#45;&#45;7</title>\n<path fill=\"none\" stroke=\"#000000\" d=\"M172.6137,-69.2055C195.2366,-57.8941 230.5692,-40.2278 253.2549,-28.8849\"/>\n</g>\n<!-- 6&#45;&#45;7 -->\n<g id=\"edge14\" class=\"edge\">\n<title>6&#45;&#45;7</title>\n<path fill=\"none\" stroke=\"#000000\" d=\"M54.0151,-18C101.5993,-18 199.8382,-18 247.6654,-18\"/>\n</g>\n</g>\n</svg>\n"
          },
          "metadata": {},
          "execution_count": 43
        }
      ],
      "source": [
        "g = Graph()\n",
        "g.add_edge(0,2,weight=4,directed=False)\n",
        "g.add_edge(0,1,weight=24,directed=False)\n",
        "g.add_edge(1,3,weight=23,directed=False)\n",
        "g.add_edge(1,4,weight=9,directed=False)\n",
        "g.add_edge(1,5,weight=18,directed=False)\n",
        "g.add_edge(2,3,weight=6,directed=False)\n",
        "g.add_edge(2,6,weight=16,directed=False)\n",
        "g.add_edge(3,5,weight=5,directed=False)\n",
        "g.add_edge(3,6,weight=8,directed=False)\n",
        "g.add_edge(4,5,weight=11,directed=False)\n",
        "g.add_edge(4,7,weight=7,directed=False)\n",
        "g.add_edge(5,6,weight=10,directed=False)\n",
        "g.add_edge(5,7,weight=14,directed=False)\n",
        "g.add_edge(6,7,weight=21,directed=False)\n",
        "...\n",
        "\n",
        "#######################################\n",
        "# Test code\n",
        "#######################################\n",
        "pos = {\n",
        "    0: '1,3!',\n",
        "    1: '4,3!',\n",
        "    2: '0,2!',\n",
        "    3: '1,1!',\n",
        "    4: '3,1!',\n",
        "    5: '2,1!',\n",
        "    6: '0,0!',\n",
        "    7: '4,0!',    \n",
        "}\n",
        "g.show(directed=False, positions=pos)"
      ]
    },
    {
      "cell_type": "markdown",
      "metadata": {
        "id": "zWmSwgXbl5lR"
      },
      "source": [
        "## Exercise\n",
        "\n",
        "Now, let's implement the Prim algorithm. The general idea is to start the search from a node `s`. Initially, only nodes directly connected to `s` are considered. We use a priority queue to sort these nodes according to the edge weight. The priority queue is implementated with a binary heap data structure using Python's [heapq](https://docs.python.org/3/library/heapq.html) module. The node `u` with the smallest cost connecting to `s` is removed from the priority queue and inserted into the MST. The search expands to include the vertices that directly connect to `u`. These nodes are inserted into the priority queue, and the procedure repeats according to the following algorithm:\n",
        "\n",
        "![Prim](img/Prim.png \"MST\")\n",
        "\n",
        "Notice that `S` maintains the nodes currently in the MST. It is crucial to avoid inserting the same node twice since it would create a cycle. \n",
        "\n",
        "We have created a stub for you. You need to complete the gaps where there is an ellipsis."
      ]
    },
    {
      "cell_type": "code",
      "execution_count": 50,
      "metadata": {
        "id": "xhICEq4pl5lS",
        "colab": {
          "base_uri": "https://localhost:8080/",
          "height": 490
        },
        "outputId": "3542dc33-5e3e-43a2-dec3-eca826272e63"
      },
      "outputs": [
        {
          "output_type": "stream",
          "name": "stdout",
          "text": [
            "{(0, 2): 4, (2, 3): 6, (3, 5): 5, (3, 6): 8, (5, 4): 11, (4, 7): 7, (4, 1): 9}\n"
          ]
        },
        {
          "output_type": "execute_result",
          "data": {
            "text/plain": [
              "<graphviz.dot.Digraph at 0x7f14c38d1750>"
            ],
            "image/svg+xml": "<?xml version=\"1.0\" encoding=\"UTF-8\" standalone=\"no\"?>\n<!DOCTYPE svg PUBLIC \"-//W3C//DTD SVG 1.1//EN\"\n \"http://www.w3.org/Graphics/SVG/1.1/DTD/svg11.dtd\">\n<!-- Generated by graphviz version 2.40.1 (20161225.0304)\n -->\n<!-- Title: %3 Pages: 1 -->\n<svg width=\"235pt\" height=\"339pt\"\n viewBox=\"0.00 0.00 235.33 338.88\" xmlns=\"http://www.w3.org/2000/svg\" xmlns:xlink=\"http://www.w3.org/1999/xlink\">\n<g id=\"graph0\" class=\"graph\" transform=\"scale(1 1) rotate(0) translate(4 334.8767)\">\n<title>%3</title>\n<polygon fill=\"#ffffff\" stroke=\"transparent\" points=\"-4,4 -4,-334.8767 231.3346,-334.8767 231.3346,4 -4,4\"/>\n<!-- 0 -->\n<g id=\"node1\" class=\"node\">\n<title>0</title>\n<ellipse fill=\"none\" stroke=\"#000000\" cx=\"74.0942\" cy=\"-312.8767\" rx=\"27\" ry=\"18\"/>\n<text text-anchor=\"middle\" x=\"74.0942\" y=\"-309.1767\" font-family=\"Times,serif\" font-size=\"14.00\" fill=\"#000000\">0</text>\n</g>\n<!-- 2 -->\n<g id=\"node2\" class=\"node\">\n<title>2</title>\n<ellipse fill=\"none\" stroke=\"#000000\" cx=\"100.4209\" cy=\"-255.8372\" rx=\"27\" ry=\"18\"/>\n<text text-anchor=\"middle\" x=\"100.4209\" y=\"-252.1372\" font-family=\"Times,serif\" font-size=\"14.00\" fill=\"#000000\">2</text>\n</g>\n<!-- 0&#45;&gt;2 -->\n<g id=\"edge1\" class=\"edge\">\n<title>0&#45;&gt;2</title>\n<path fill=\"none\" stroke=\"#000000\" d=\"M82.1361,-295.453C84.0244,-291.3618 86.0793,-286.9097 88.1072,-282.5162\"/>\n<polygon fill=\"#000000\" stroke=\"#000000\" points=\"91.4153,-283.7005 92.4282,-273.1542 85.0596,-280.767 91.4153,-283.7005\"/>\n</g>\n<!-- 3 -->\n<g id=\"node3\" class=\"node\">\n<title>3</title>\n<ellipse fill=\"none\" stroke=\"#000000\" cx=\"133.4161\" cy=\"-197.9051\" rx=\"27\" ry=\"18\"/>\n<text text-anchor=\"middle\" x=\"133.4161\" y=\"-194.2051\" font-family=\"Times,serif\" font-size=\"14.00\" fill=\"#000000\">3</text>\n</g>\n<!-- 2&#45;&gt;3 -->\n<g id=\"edge2\" class=\"edge\">\n<title>2&#45;&gt;3</title>\n<path fill=\"none\" stroke=\"#000000\" d=\"M110.1421,-238.769C112.8034,-234.0964 115.7495,-228.9237 118.6256,-223.8739\"/>\n<polygon fill=\"#000000\" stroke=\"#000000\" points=\"121.7426,-225.4731 123.6504,-215.0515 115.66,-222.0088 121.7426,-225.4731\"/>\n</g>\n<!-- 5 -->\n<g id=\"node4\" class=\"node\">\n<title>5</title>\n<ellipse fill=\"none\" stroke=\"#000000\" cx=\"108.4856\" cy=\"-135.9468\" rx=\"27\" ry=\"18\"/>\n<text text-anchor=\"middle\" x=\"108.4856\" y=\"-132.2468\" font-family=\"Times,serif\" font-size=\"14.00\" fill=\"#000000\">5</text>\n</g>\n<!-- 3&#45;&gt;5 -->\n<g id=\"edge3\" class=\"edge\">\n<title>3&#45;&gt;5</title>\n<path fill=\"none\" stroke=\"#000000\" d=\"M126.3387,-180.316C124.1623,-174.9071 121.7145,-168.8237 119.3454,-162.9359\"/>\n<polygon fill=\"#000000\" stroke=\"#000000\" points=\"122.4744,-161.336 115.4944,-153.3654 115.9804,-163.9491 122.4744,-161.336\"/>\n</g>\n<!-- 6 -->\n<g id=\"node5\" class=\"node\">\n<title>6</title>\n<ellipse fill=\"none\" stroke=\"#000000\" cx=\"200.3346\" cy=\"-209.2313\" rx=\"27\" ry=\"18\"/>\n<text text-anchor=\"middle\" x=\"200.3346\" y=\"-205.5313\" font-family=\"Times,serif\" font-size=\"14.00\" fill=\"#000000\">6</text>\n</g>\n<!-- 3&#45;&gt;6 -->\n<g id=\"edge4\" class=\"edge\">\n<title>3&#45;&gt;6</title>\n<path fill=\"none\" stroke=\"#000000\" d=\"M159.8641,-202.3815C161.1793,-202.6041 162.5096,-202.8292 163.8464,-203.0555\"/>\n<polygon fill=\"#000000\" stroke=\"#000000\" points=\"163.6349,-206.5694 174.0787,-204.7874 164.8031,-199.6676 163.6349,-206.5694\"/>\n</g>\n<!-- 4 -->\n<g id=\"node6\" class=\"node\">\n<title>4</title>\n<ellipse fill=\"none\" stroke=\"#000000\" cx=\"89.0062\" cy=\"-72.6734\" rx=\"27\" ry=\"18\"/>\n<text text-anchor=\"middle\" x=\"89.0062\" y=\"-68.9734\" font-family=\"Times,serif\" font-size=\"14.00\" fill=\"#000000\">4</text>\n</g>\n<!-- 5&#45;&gt;4 -->\n<g id=\"edge5\" class=\"edge\">\n<title>5&#45;&gt;4</title>\n<path fill=\"none\" stroke=\"#000000\" d=\"M102.9557,-117.9844C101.2551,-112.4607 99.3426,-106.2482 97.4915,-100.2354\"/>\n<polygon fill=\"#000000\" stroke=\"#000000\" points=\"100.77,-98.9892 94.4825,-90.4617 94.0798,-101.0489 100.77,-98.9892\"/>\n</g>\n<!-- 7 -->\n<g id=\"node7\" class=\"node\">\n<title>7</title>\n<ellipse fill=\"none\" stroke=\"#000000\" cx=\"27\" cy=\"-47.9935\" rx=\"27\" ry=\"18\"/>\n<text text-anchor=\"middle\" x=\"27\" y=\"-44.2935\" font-family=\"Times,serif\" font-size=\"14.00\" fill=\"#000000\">7</text>\n</g>\n<!-- 4&#45;&gt;7 -->\n<g id=\"edge6\" class=\"edge\">\n<title>4&#45;&gt;7</title>\n<path fill=\"none\" stroke=\"#000000\" d=\"M65.5643,-63.343C63.7124,-62.6059 61.8221,-61.8535 59.9222,-61.0973\"/>\n<polygon fill=\"#000000\" stroke=\"#000000\" points=\"61.0605,-57.7833 50.475,-57.3371 58.4718,-64.2871 61.0605,-57.7833\"/>\n</g>\n<!-- 1 -->\n<g id=\"node8\" class=\"node\">\n<title>1</title>\n<ellipse fill=\"none\" stroke=\"#000000\" cx=\"127.4366\" cy=\"-18\" rx=\"27\" ry=\"18\"/>\n<text text-anchor=\"middle\" x=\"127.4366\" y=\"-14.3\" font-family=\"Times,serif\" font-size=\"14.00\" fill=\"#000000\">1</text>\n</g>\n<!-- 4&#45;&gt;1 -->\n<g id=\"edge7\" class=\"edge\">\n<title>4&#45;&gt;1</title>\n<path fill=\"none\" stroke=\"#000000\" d=\"M100.5366,-56.2696C103.5006,-52.0528 106.7567,-47.4205 109.9487,-42.8793\"/>\n<polygon fill=\"#000000\" stroke=\"#000000\" points=\"113.0271,-44.5861 115.9144,-34.3922 107.3003,-40.5607 113.0271,-44.5861\"/>\n</g>\n</g>\n</svg>\n"
          },
          "metadata": {},
          "execution_count": 50
        }
      ],
      "source": [
        "class Graph(Graph):\n",
        "    def prim(self, start):\n",
        "        \"\"\"\n",
        "        argument \n",
        "        `start`, start vertex\n",
        "        \"\"\"      \n",
        "        # Intialise set 'visited' with vertex s\n",
        "        visited = [start]\n",
        "        # Initialise priority queue Q with an empty list\n",
        "        Q = []\n",
        "        # Initilise list tree with empty Graph object. This object will have the MST at the end of the execution\n",
        "        tree = Graph()\n",
        "        # Initialise the priority queue Q with outgoing edges from s\n",
        "        for e in self.adj_list[start]:\n",
        "            # There is a trick here. Python prioriy queues accept tuples but the first entry of the tuple must be the priority value\n",
        "            pq.heappush(Q, (self.edge_weights[(start, e)], start, e))\n",
        "        while len(Q) > 0:\n",
        "            # Remove element from Q with the smallest weight\n",
        "            weight, v, u = pq.heappop(Q)\n",
        "            # If the node is already in 'visited' we cannot include it in the MST since it would create a cycle\n",
        "            if u not in visited:\n",
        "                # Let's grow the MST by inserting the vertex in visited\n",
        "                visited.append(u)\n",
        "                # Also we insert the edge in tree\n",
        "                tree.add_edge(v, u, weight=weight)\n",
        "                # We iterate over all outgoing edges of u\n",
        "                for e in self.adj_list[u]:\n",
        "                    # We are interested in edges that connect to vertices not in 'visited' and with smaller weight than known values stored in a\n",
        "                    if e not in visited:\n",
        "                        # Edge e is of interest, let's store in the priority queue for future analysis\n",
        "                        pq.heappush(Q, (self.edge_weights[(u, e)], u, e))        \n",
        "        return tree\n",
        "        \n",
        "#######################################\n",
        "# Test code\n",
        "#######################################\n",
        "g = Graph()\n",
        "g.add_edge(0,2,weight=4,directed=False)\n",
        "g.add_edge(0,1,weight=24,directed=False)\n",
        "g.add_edge(1,3,weight=23,directed=False)\n",
        "g.add_edge(1,4,weight=9,directed=False)\n",
        "g.add_edge(1,5,weight=18,directed=False)\n",
        "g.add_edge(2,3,weight=6,directed=False)\n",
        "g.add_edge(2,6,weight=16,directed=False)\n",
        "g.add_edge(3,5,weight=5,directed=False)\n",
        "g.add_edge(3,6,weight=8,directed=False)\n",
        "g.add_edge(4,5,weight=11,directed=False)\n",
        "g.add_edge(4,7,weight=7,directed=False)\n",
        "g.add_edge(5,6,weight=10,directed=False)\n",
        "g.add_edge(5,7,weight=14,directed=False)\n",
        "g.add_edge(6,7,weight=21,directed=False)\n",
        "...\n",
        "\n",
        "tree = g.prim(0)\n",
        "print(tree.edge_weights)\n",
        "tree.show()"
      ]
    },
    {
      "cell_type": "markdown",
      "metadata": {
        "id": "D5HQM6_Pl5lS"
      },
      "source": [
        "If your algorithm is correct, you should see the following output:\n",
        "```\n",
        "{(0, 2): 4, (2, 3): 6, (3, 5): 5, (3, 6): 8, (5, 4): 11, (4, 7): 7, (4, 1): 9}\n",
        "```\n",
        "\n",
        "You can compare it to the figure to confirm it is correct."
      ]
    },
    {
      "cell_type": "markdown",
      "metadata": {
        "id": "L1qR5KVol5lS"
      },
      "source": [
        "## Final Task\n",
        "\n",
        "Create a python file called Graph.py containing the Graph class we implemented above. This will be used in future tutorials."
      ]
    },
    {
      "cell_type": "markdown",
      "metadata": {
        "id": "ilNcSB_Kl5lS"
      },
      "source": [
        "# Extensions\n",
        "\n",
        "We could implement some additional functions such as:\n",
        "1. Use the graph transpose routine to implement the Kosaraju's algorithm as we discussed in the theory part of this tutorial. \n",
        "\n",
        "2. Change the Prim algorithm to find the *Maximal* Spanning Tree. Such implementation could be achieved by replacing the min-heap by a max-heap.\n",
        "\n",
        "That is all for today. Next week we will develop some code to store and manipulate probability tables."
      ]
    }
  ],
  "metadata": {
    "interpreter": {
      "hash": "31f2aee4e71d21fbe5cf8b01ff0e069b9275f58929596ceb00d14d90e3e16cd6"
    },
    "kernelspec": {
      "display_name": "Python 3 (ipykernel)",
      "language": "python",
      "name": "python3"
    },
    "language_info": {
      "codemirror_mode": {
        "name": "ipython",
        "version": 3
      },
      "file_extension": ".py",
      "mimetype": "text/x-python",
      "name": "python",
      "nbconvert_exporter": "python",
      "pygments_lexer": "ipython3",
      "version": "3.9.7"
    },
    "toc": {
      "colors": {
        "hover_highlight": "#DAA520",
        "navigate_num": "#000000",
        "navigate_text": "#333333",
        "running_highlight": "#FF0000",
        "selected_highlight": "#FFD700",
        "sidebar_border": "#EEEEEE",
        "wrapper_background": "#FFFFFF"
      },
      "moveMenuLeft": true,
      "nav_menu": {
        "height": "198px",
        "width": "252px"
      },
      "navigate_menu": true,
      "number_sections": true,
      "sideBar": true,
      "threshold": 4,
      "toc_cell": false,
      "toc_position": {
        "height": "625px",
        "left": "0px",
        "right": "1067.67px",
        "top": "107px",
        "width": "212px"
      },
      "toc_section_display": "block",
      "toc_window_display": true,
      "widenNotebook": false
    },
    "colab": {
      "provenance": []
    }
  },
  "nbformat": 4,
  "nbformat_minor": 0
}